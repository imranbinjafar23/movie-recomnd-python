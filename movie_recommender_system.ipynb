{
 "cells": [
  {
   "cell_type": "markdown",
   "id": "e25534d3",
   "metadata": {},
   "source": [
    "## 1. Import necesary libraries"
   ]
  },
  {
   "cell_type": "code",
   "execution_count": 1,
   "id": "56f431cd",
   "metadata": {},
   "outputs": [],
   "source": [
    "import numpy as np\n",
    "import pandas as pd\n",
    "import warnings\n",
    "warnings.filterwarnings(\"ignore\")"
   ]
  },
  {
   "cell_type": "markdown",
   "id": "28a2f850",
   "metadata": {},
   "source": [
    "## 2. Reading TMDB 5000 movies data "
   ]
  },
  {
   "cell_type": "code",
   "execution_count": 2,
   "id": "450b7f39",
   "metadata": {},
   "outputs": [],
   "source": [
    "movies = pd.read_csv('tmdb_5000_movies.csv')\n",
    "credits = pd.read_csv('tmdb_5000_credits.csv')"
   ]
  },
  {
   "cell_type": "markdown",
   "id": "3f29575f",
   "metadata": {},
   "source": [
    "## 3(a). EDA - Printing Head of the data."
   ]
  },
  {
   "cell_type": "code",
   "execution_count": 3,
   "id": "c663fae2",
   "metadata": {},
   "outputs": [
    {
     "data": {
      "text/html": [
       "<div>\n",
       "<style scoped>\n",
       "    .dataframe tbody tr th:only-of-type {\n",
       "        vertical-align: middle;\n",
       "    }\n",
       "\n",
       "    .dataframe tbody tr th {\n",
       "        vertical-align: top;\n",
       "    }\n",
       "\n",
       "    .dataframe thead th {\n",
       "        text-align: right;\n",
       "    }\n",
       "</style>\n",
       "<table border=\"1\" class=\"dataframe\">\n",
       "  <thead>\n",
       "    <tr style=\"text-align: right;\">\n",
       "      <th></th>\n",
       "      <th>budget</th>\n",
       "      <th>genres</th>\n",
       "      <th>homepage</th>\n",
       "      <th>id</th>\n",
       "      <th>keywords</th>\n",
       "      <th>original_language</th>\n",
       "      <th>original_title</th>\n",
       "      <th>overview</th>\n",
       "      <th>popularity</th>\n",
       "      <th>production_companies</th>\n",
       "      <th>production_countries</th>\n",
       "      <th>release_date</th>\n",
       "      <th>revenue</th>\n",
       "      <th>runtime</th>\n",
       "      <th>spoken_languages</th>\n",
       "      <th>status</th>\n",
       "      <th>tagline</th>\n",
       "      <th>title</th>\n",
       "      <th>vote_average</th>\n",
       "      <th>vote_count</th>\n",
       "    </tr>\n",
       "  </thead>\n",
       "  <tbody>\n",
       "    <tr>\n",
       "      <th>0</th>\n",
       "      <td>237000000</td>\n",
       "      <td>[{\"id\": 28, \"name\": \"Action\"}, {\"id\": 12, \"nam...</td>\n",
       "      <td>http://www.avatarmovie.com/</td>\n",
       "      <td>19995</td>\n",
       "      <td>[{\"id\": 1463, \"name\": \"culture clash\"}, {\"id\":...</td>\n",
       "      <td>en</td>\n",
       "      <td>Avatar</td>\n",
       "      <td>In the 22nd century, a paraplegic Marine is di...</td>\n",
       "      <td>150.437577</td>\n",
       "      <td>[{\"name\": \"Ingenious Film Partners\", \"id\": 289...</td>\n",
       "      <td>[{\"iso_3166_1\": \"US\", \"name\": \"United States o...</td>\n",
       "      <td>2009-12-10</td>\n",
       "      <td>2787965087</td>\n",
       "      <td>162.0</td>\n",
       "      <td>[{\"iso_639_1\": \"en\", \"name\": \"English\"}, {\"iso...</td>\n",
       "      <td>Released</td>\n",
       "      <td>Enter the World of Pandora.</td>\n",
       "      <td>Avatar</td>\n",
       "      <td>7.2</td>\n",
       "      <td>11800</td>\n",
       "    </tr>\n",
       "  </tbody>\n",
       "</table>\n",
       "</div>"
      ],
      "text/plain": [
       "      budget                                             genres  \\\n",
       "0  237000000  [{\"id\": 28, \"name\": \"Action\"}, {\"id\": 12, \"nam...   \n",
       "\n",
       "                      homepage     id  \\\n",
       "0  http://www.avatarmovie.com/  19995   \n",
       "\n",
       "                                            keywords original_language  \\\n",
       "0  [{\"id\": 1463, \"name\": \"culture clash\"}, {\"id\":...                en   \n",
       "\n",
       "  original_title                                           overview  \\\n",
       "0         Avatar  In the 22nd century, a paraplegic Marine is di...   \n",
       "\n",
       "   popularity                               production_companies  \\\n",
       "0  150.437577  [{\"name\": \"Ingenious Film Partners\", \"id\": 289...   \n",
       "\n",
       "                                production_countries release_date     revenue  \\\n",
       "0  [{\"iso_3166_1\": \"US\", \"name\": \"United States o...   2009-12-10  2787965087   \n",
       "\n",
       "   runtime                                   spoken_languages    status  \\\n",
       "0    162.0  [{\"iso_639_1\": \"en\", \"name\": \"English\"}, {\"iso...  Released   \n",
       "\n",
       "                       tagline   title  vote_average  vote_count  \n",
       "0  Enter the World of Pandora.  Avatar           7.2       11800  "
      ]
     },
     "execution_count": 3,
     "metadata": {},
     "output_type": "execute_result"
    }
   ],
   "source": [
    "movies.head(1)"
   ]
  },
  {
   "cell_type": "code",
   "execution_count": 4,
   "id": "7b7d4dfc",
   "metadata": {},
   "outputs": [
    {
     "data": {
      "text/html": [
       "<div>\n",
       "<style scoped>\n",
       "    .dataframe tbody tr th:only-of-type {\n",
       "        vertical-align: middle;\n",
       "    }\n",
       "\n",
       "    .dataframe tbody tr th {\n",
       "        vertical-align: top;\n",
       "    }\n",
       "\n",
       "    .dataframe thead th {\n",
       "        text-align: right;\n",
       "    }\n",
       "</style>\n",
       "<table border=\"1\" class=\"dataframe\">\n",
       "  <thead>\n",
       "    <tr style=\"text-align: right;\">\n",
       "      <th></th>\n",
       "      <th>movie_id</th>\n",
       "      <th>title</th>\n",
       "      <th>cast</th>\n",
       "      <th>crew</th>\n",
       "    </tr>\n",
       "  </thead>\n",
       "  <tbody>\n",
       "    <tr>\n",
       "      <th>0</th>\n",
       "      <td>19995</td>\n",
       "      <td>Avatar</td>\n",
       "      <td>[{\"cast_id\": 242, \"character\": \"Jake Sully\", \"...</td>\n",
       "      <td>[{\"credit_id\": \"52fe48009251416c750aca23\", \"de...</td>\n",
       "    </tr>\n",
       "  </tbody>\n",
       "</table>\n",
       "</div>"
      ],
      "text/plain": [
       "   movie_id   title                                               cast  \\\n",
       "0     19995  Avatar  [{\"cast_id\": 242, \"character\": \"Jake Sully\", \"...   \n",
       "\n",
       "                                                crew  \n",
       "0  [{\"credit_id\": \"52fe48009251416c750aca23\", \"de...  "
      ]
     },
     "execution_count": 4,
     "metadata": {},
     "output_type": "execute_result"
    }
   ],
   "source": [
    "credits.head(1)"
   ]
  },
  {
   "cell_type": "markdown",
   "id": "b03c5b35",
   "metadata": {},
   "source": [
    "## 3(b). EDA - Merging two dataframes (movies & credits) on title"
   ]
  },
  {
   "cell_type": "code",
   "execution_count": 5,
   "id": "d45e0e61",
   "metadata": {},
   "outputs": [
    {
     "name": "stdout",
     "output_type": "stream",
     "text": [
      "(4803, 20)\n",
      "(4803, 4)\n"
     ]
    }
   ],
   "source": [
    "print(movies.shape)\n",
    "print(credits.shape)"
   ]
  },
  {
   "cell_type": "code",
   "execution_count": 6,
   "id": "7772162c",
   "metadata": {},
   "outputs": [],
   "source": [
    "movies = movies.merge(credits, on='title')"
   ]
  },
  {
   "cell_type": "code",
   "execution_count": 7,
   "id": "d7d19067",
   "metadata": {},
   "outputs": [
    {
     "name": "stdout",
     "output_type": "stream",
     "text": [
      "(4809, 23)\n"
     ]
    }
   ],
   "source": [
    "print(movies.shape)"
   ]
  },
  {
   "cell_type": "code",
   "execution_count": 8,
   "id": "0b2e4ffa",
   "metadata": {},
   "outputs": [
    {
     "name": "stdout",
     "output_type": "stream",
     "text": [
      "<class 'pandas.core.frame.DataFrame'>\n",
      "Int64Index: 4809 entries, 0 to 4808\n",
      "Data columns (total 23 columns):\n",
      " #   Column                Non-Null Count  Dtype  \n",
      "---  ------                --------------  -----  \n",
      " 0   budget                4809 non-null   int64  \n",
      " 1   genres                4809 non-null   object \n",
      " 2   homepage              1713 non-null   object \n",
      " 3   id                    4809 non-null   int64  \n",
      " 4   keywords              4809 non-null   object \n",
      " 5   original_language     4809 non-null   object \n",
      " 6   original_title        4809 non-null   object \n",
      " 7   overview              4806 non-null   object \n",
      " 8   popularity            4809 non-null   float64\n",
      " 9   production_companies  4809 non-null   object \n",
      " 10  production_countries  4809 non-null   object \n",
      " 11  release_date          4808 non-null   object \n",
      " 12  revenue               4809 non-null   int64  \n",
      " 13  runtime               4807 non-null   float64\n",
      " 14  spoken_languages      4809 non-null   object \n",
      " 15  status                4809 non-null   object \n",
      " 16  tagline               3965 non-null   object \n",
      " 17  title                 4809 non-null   object \n",
      " 18  vote_average          4809 non-null   float64\n",
      " 19  vote_count            4809 non-null   int64  \n",
      " 20  movie_id              4809 non-null   int64  \n",
      " 21  cast                  4809 non-null   object \n",
      " 22  crew                  4809 non-null   object \n",
      "dtypes: float64(3), int64(5), object(15)\n",
      "memory usage: 901.7+ KB\n"
     ]
    }
   ],
   "source": [
    "movies.info()"
   ]
  },
  {
   "cell_type": "markdown",
   "id": "85f07452",
   "metadata": {},
   "source": [
    "## 3(c). EDA - Keep only 'movie_id','title', 'overview', 'genres', 'keywords', 'cast', 'crew' as these are relevant while making recommendation"
   ]
  },
  {
   "cell_type": "code",
   "execution_count": 9,
   "id": "9dcb7409",
   "metadata": {},
   "outputs": [],
   "source": [
    "movies = movies[['movie_id','title', 'overview', 'genres', 'keywords', 'cast', 'crew']]"
   ]
  },
  {
   "cell_type": "code",
   "execution_count": 10,
   "id": "f96b94ba",
   "metadata": {},
   "outputs": [
    {
     "data": {
      "text/html": [
       "<div>\n",
       "<style scoped>\n",
       "    .dataframe tbody tr th:only-of-type {\n",
       "        vertical-align: middle;\n",
       "    }\n",
       "\n",
       "    .dataframe tbody tr th {\n",
       "        vertical-align: top;\n",
       "    }\n",
       "\n",
       "    .dataframe thead th {\n",
       "        text-align: right;\n",
       "    }\n",
       "</style>\n",
       "<table border=\"1\" class=\"dataframe\">\n",
       "  <thead>\n",
       "    <tr style=\"text-align: right;\">\n",
       "      <th></th>\n",
       "      <th>movie_id</th>\n",
       "      <th>title</th>\n",
       "      <th>overview</th>\n",
       "      <th>genres</th>\n",
       "      <th>keywords</th>\n",
       "      <th>cast</th>\n",
       "      <th>crew</th>\n",
       "    </tr>\n",
       "  </thead>\n",
       "  <tbody>\n",
       "    <tr>\n",
       "      <th>0</th>\n",
       "      <td>19995</td>\n",
       "      <td>Avatar</td>\n",
       "      <td>In the 22nd century, a paraplegic Marine is di...</td>\n",
       "      <td>[{\"id\": 28, \"name\": \"Action\"}, {\"id\": 12, \"nam...</td>\n",
       "      <td>[{\"id\": 1463, \"name\": \"culture clash\"}, {\"id\":...</td>\n",
       "      <td>[{\"cast_id\": 242, \"character\": \"Jake Sully\", \"...</td>\n",
       "      <td>[{\"credit_id\": \"52fe48009251416c750aca23\", \"de...</td>\n",
       "    </tr>\n",
       "  </tbody>\n",
       "</table>\n",
       "</div>"
      ],
      "text/plain": [
       "   movie_id   title                                           overview  \\\n",
       "0     19995  Avatar  In the 22nd century, a paraplegic Marine is di...   \n",
       "\n",
       "                                              genres  \\\n",
       "0  [{\"id\": 28, \"name\": \"Action\"}, {\"id\": 12, \"nam...   \n",
       "\n",
       "                                            keywords  \\\n",
       "0  [{\"id\": 1463, \"name\": \"culture clash\"}, {\"id\":...   \n",
       "\n",
       "                                                cast  \\\n",
       "0  [{\"cast_id\": 242, \"character\": \"Jake Sully\", \"...   \n",
       "\n",
       "                                                crew  \n",
       "0  [{\"credit_id\": \"52fe48009251416c750aca23\", \"de...  "
      ]
     },
     "execution_count": 10,
     "metadata": {},
     "output_type": "execute_result"
    }
   ],
   "source": [
    "movies.head(1)"
   ]
  },
  {
   "cell_type": "markdown",
   "id": "0dd613ba",
   "metadata": {},
   "source": [
    "## 3(d). EDA - Dropping null value rows"
   ]
  },
  {
   "cell_type": "code",
   "execution_count": 11,
   "id": "fe66c74e",
   "metadata": {},
   "outputs": [
    {
     "data": {
      "text/plain": [
       "movie_id    0\n",
       "title       0\n",
       "overview    3\n",
       "genres      0\n",
       "keywords    0\n",
       "cast        0\n",
       "crew        0\n",
       "dtype: int64"
      ]
     },
     "execution_count": 11,
     "metadata": {},
     "output_type": "execute_result"
    }
   ],
   "source": [
    "movies.isnull().sum()"
   ]
  },
  {
   "cell_type": "code",
   "execution_count": 12,
   "id": "740728c5",
   "metadata": {},
   "outputs": [],
   "source": [
    "movies = movies.dropna()"
   ]
  },
  {
   "cell_type": "code",
   "execution_count": 13,
   "id": "cdc966b1",
   "metadata": {},
   "outputs": [
    {
     "data": {
      "text/plain": [
       "movie_id    0\n",
       "title       0\n",
       "overview    0\n",
       "genres      0\n",
       "keywords    0\n",
       "cast        0\n",
       "crew        0\n",
       "dtype: int64"
      ]
     },
     "execution_count": 13,
     "metadata": {},
     "output_type": "execute_result"
    }
   ],
   "source": [
    "movies.isna().sum()"
   ]
  },
  {
   "cell_type": "code",
   "execution_count": 14,
   "id": "b0e1db07",
   "metadata": {},
   "outputs": [
    {
     "data": {
      "text/html": [
       "<div>\n",
       "<style scoped>\n",
       "    .dataframe tbody tr th:only-of-type {\n",
       "        vertical-align: middle;\n",
       "    }\n",
       "\n",
       "    .dataframe tbody tr th {\n",
       "        vertical-align: top;\n",
       "    }\n",
       "\n",
       "    .dataframe thead th {\n",
       "        text-align: right;\n",
       "    }\n",
       "</style>\n",
       "<table border=\"1\" class=\"dataframe\">\n",
       "  <thead>\n",
       "    <tr style=\"text-align: right;\">\n",
       "      <th></th>\n",
       "      <th>movie_id</th>\n",
       "      <th>title</th>\n",
       "      <th>overview</th>\n",
       "      <th>genres</th>\n",
       "      <th>keywords</th>\n",
       "      <th>cast</th>\n",
       "      <th>crew</th>\n",
       "    </tr>\n",
       "  </thead>\n",
       "  <tbody>\n",
       "    <tr>\n",
       "      <th>0</th>\n",
       "      <td>19995</td>\n",
       "      <td>Avatar</td>\n",
       "      <td>In the 22nd century, a paraplegic Marine is di...</td>\n",
       "      <td>[{\"id\": 28, \"name\": \"Action\"}, {\"id\": 12, \"nam...</td>\n",
       "      <td>[{\"id\": 1463, \"name\": \"culture clash\"}, {\"id\":...</td>\n",
       "      <td>[{\"cast_id\": 242, \"character\": \"Jake Sully\", \"...</td>\n",
       "      <td>[{\"credit_id\": \"52fe48009251416c750aca23\", \"de...</td>\n",
       "    </tr>\n",
       "  </tbody>\n",
       "</table>\n",
       "</div>"
      ],
      "text/plain": [
       "   movie_id   title                                           overview  \\\n",
       "0     19995  Avatar  In the 22nd century, a paraplegic Marine is di...   \n",
       "\n",
       "                                              genres  \\\n",
       "0  [{\"id\": 28, \"name\": \"Action\"}, {\"id\": 12, \"nam...   \n",
       "\n",
       "                                            keywords  \\\n",
       "0  [{\"id\": 1463, \"name\": \"culture clash\"}, {\"id\":...   \n",
       "\n",
       "                                                cast  \\\n",
       "0  [{\"cast_id\": 242, \"character\": \"Jake Sully\", \"...   \n",
       "\n",
       "                                                crew  \n",
       "0  [{\"credit_id\": \"52fe48009251416c750aca23\", \"de...  "
      ]
     },
     "execution_count": 14,
     "metadata": {},
     "output_type": "execute_result"
    }
   ],
   "source": [
    "movies.head(1)"
   ]
  },
  {
   "cell_type": "markdown",
   "id": "240b360e",
   "metadata": {},
   "source": [
    "## 3(e). EDA - Extract only values from the key-value pair of the \"genres\", \"keywords\" , \"cast\", \"crew\" columns."
   ]
  },
  {
   "cell_type": "code",
   "execution_count": 15,
   "id": "bcd934e9",
   "metadata": {},
   "outputs": [
    {
     "data": {
      "text/plain": [
       "'[{\"id\": 28, \"name\": \"Action\"}, {\"id\": 12, \"name\": \"Adventure\"}, {\"id\": 14, \"name\": \"Fantasy\"}, {\"id\": 878, \"name\": \"Science Fiction\"}]'"
      ]
     },
     "execution_count": 15,
     "metadata": {},
     "output_type": "execute_result"
    }
   ],
   "source": [
    "movies.iloc[0].genres"
   ]
  },
  {
   "cell_type": "code",
   "execution_count": 16,
   "id": "7ee4b8a9",
   "metadata": {},
   "outputs": [
    {
     "data": {
      "text/plain": [
       "['Action', 'Adventure', 'Fantasy', 'SciFi']"
      ]
     },
     "execution_count": 16,
     "metadata": {},
     "output_type": "execute_result"
    }
   ],
   "source": [
    "# '[{\"id\": 28, \"name\": \"Action\"}, {\"id\": 12, \"name\": \"Adventure\"}, {\"id\": 14, \"name\": \"Fantasy\"}, {\"id\": 878, \"name\": \"Science Fiction\"}]'\n",
    "# We will extract values from the above key-value pair dictionary.\n",
    "\n",
    "['Action', 'Adventure', 'Fantasy', 'SciFi']"
   ]
  },
  {
   "cell_type": "markdown",
   "id": "3b92de7e",
   "metadata": {},
   "source": [
    "# 3(e). EDA - Write a function named as \"convert\" that takes a single argument obj and converts a string representation of a \"list of dictionaries\" into a \"list of names\" extracted from those dictionaries."
   ]
  },
  {
   "cell_type": "code",
   "execution_count": 17,
   "id": "e79a56ba",
   "metadata": {},
   "outputs": [],
   "source": [
    "# This function is gonna extract key pair value of given object\n",
    "import ast\n",
    "def convert(obj):\n",
    "    L = []\n",
    "    for i in ast.literal_eval(obj):\n",
    "        L.append(i['name'])\n",
    "    return L"
   ]
  },
  {
   "cell_type": "code",
   "execution_count": 18,
   "id": "f82353c6",
   "metadata": {},
   "outputs": [
    {
     "data": {
      "text/plain": [
       "['Action', 'Adventure', 'Fantasy', 'Science Fiction']"
      ]
     },
     "execution_count": 18,
     "metadata": {},
     "output_type": "execute_result"
    }
   ],
   "source": [
    "# Testing the custom function \"convert\"\n",
    "convert('[{\"id\": 28, \"name\": \"Action\"}, {\"id\": 12, \"name\": \"Adventure\"}, {\"id\": 14, \"name\": \"Fantasy\"}, {\"id\": 878, \"name\": \"Science Fiction\"}]')"
   ]
  },
  {
   "cell_type": "markdown",
   "id": "dbb0d843",
   "metadata": {},
   "source": [
    "# 3(e). EDA - Apply the custom function to \"genres\" and \"keywords\" columns."
   ]
  },
  {
   "cell_type": "code",
   "execution_count": 19,
   "id": "1cb2f03a",
   "metadata": {},
   "outputs": [],
   "source": [
    "movies['genres'] = movies['genres'].apply(convert)"
   ]
  },
  {
   "cell_type": "code",
   "execution_count": 20,
   "id": "56040628",
   "metadata": {},
   "outputs": [],
   "source": [
    "movies['keywords'] = movies['keywords'].apply(convert)"
   ]
  },
  {
   "cell_type": "markdown",
   "id": "a5b8dc48",
   "metadata": {},
   "source": [
    "# 3(f). EDA - Write a function named as \"convert3\" that takes a single argument obj and converts a string representation of a \"list of dictionaries\" into a \"list of names\" extracted from those dictionaries."
   ]
  },
  {
   "cell_type": "code",
   "execution_count": 21,
   "id": "63304676",
   "metadata": {},
   "outputs": [],
   "source": [
    "# This function is gonna extract key pair value of given object\n",
    "import ast\n",
    "def convert3(obj):\n",
    "    L = []\n",
    "    counter = 0\n",
    "    for i in ast.literal_eval(obj):\n",
    "        if counter != 3:\n",
    "            L.append(i['name'])\n",
    "            counter += 1\n",
    "        else:\n",
    "            break\n",
    "    return L"
   ]
  },
  {
   "cell_type": "code",
   "execution_count": 22,
   "id": "9248943a",
   "metadata": {},
   "outputs": [
    {
     "data": {
      "text/plain": [
       "0        [Sam Worthington, Zoe Saldana, Sigourney Weaver]\n",
       "1           [Johnny Depp, Orlando Bloom, Keira Knightley]\n",
       "2            [Daniel Craig, Christoph Waltz, Léa Seydoux]\n",
       "3            [Christian Bale, Michael Caine, Gary Oldman]\n",
       "4          [Taylor Kitsch, Lynn Collins, Samantha Morton]\n",
       "                              ...                        \n",
       "4804    [Carlos Gallardo, Jaime de Hoyos, Peter Marqua...\n",
       "4805         [Edward Burns, Kerry Bishé, Marsha Dietlein]\n",
       "4806           [Eric Mabius, Kristin Booth, Crystal Lowe]\n",
       "4807            [Daniel Henney, Eliza Coupe, Bill Paxton]\n",
       "4808    [Drew Barrymore, Brian Herzlinger, Corey Feldman]\n",
       "Name: cast, Length: 4806, dtype: object"
      ]
     },
     "execution_count": 22,
     "metadata": {},
     "output_type": "execute_result"
    }
   ],
   "source": [
    "movies['cast'].apply(convert3)"
   ]
  },
  {
   "cell_type": "code",
   "execution_count": 23,
   "id": "2898cba4",
   "metadata": {},
   "outputs": [],
   "source": [
    "movies['cast'] = movies['cast'].apply(convert3)"
   ]
  },
  {
   "cell_type": "markdown",
   "id": "abd2f9b7",
   "metadata": {},
   "source": [
    "# 3(g). EDA - Write a function named as \"fetch_director\" that will extract name of directors from the \"crew\" column."
   ]
  },
  {
   "cell_type": "code",
   "execution_count": 24,
   "id": "484b8742",
   "metadata": {},
   "outputs": [],
   "source": [
    "# This function is gonna extract key pair value of given object\n",
    "import ast\n",
    "def fetch_director(obj):\n",
    "    L = []\n",
    "    for i in ast.literal_eval(obj):\n",
    "        if i['job'] == 'Director':\n",
    "            L.append(i['name'])\n",
    "            break\n",
    "    return L"
   ]
  },
  {
   "cell_type": "code",
   "execution_count": 25,
   "id": "e1c174c8",
   "metadata": {},
   "outputs": [
    {
     "data": {
      "text/plain": [
       "0           [James Cameron]\n",
       "1          [Gore Verbinski]\n",
       "2              [Sam Mendes]\n",
       "3       [Christopher Nolan]\n",
       "4          [Andrew Stanton]\n",
       "               ...         \n",
       "4804     [Robert Rodriguez]\n",
       "4805         [Edward Burns]\n",
       "4806          [Scott Smith]\n",
       "4807          [Daniel Hsia]\n",
       "4808     [Brian Herzlinger]\n",
       "Name: crew, Length: 4806, dtype: object"
      ]
     },
     "execution_count": 25,
     "metadata": {},
     "output_type": "execute_result"
    }
   ],
   "source": [
    "movies['crew'].apply(fetch_director)"
   ]
  },
  {
   "cell_type": "code",
   "execution_count": 26,
   "id": "7de9e792",
   "metadata": {},
   "outputs": [],
   "source": [
    "movies['crew'] = movies['crew'].apply(fetch_director)"
   ]
  },
  {
   "cell_type": "code",
   "execution_count": 27,
   "id": "b9f9f5e9",
   "metadata": {},
   "outputs": [
    {
     "data": {
      "text/html": [
       "<div>\n",
       "<style scoped>\n",
       "    .dataframe tbody tr th:only-of-type {\n",
       "        vertical-align: middle;\n",
       "    }\n",
       "\n",
       "    .dataframe tbody tr th {\n",
       "        vertical-align: top;\n",
       "    }\n",
       "\n",
       "    .dataframe thead th {\n",
       "        text-align: right;\n",
       "    }\n",
       "</style>\n",
       "<table border=\"1\" class=\"dataframe\">\n",
       "  <thead>\n",
       "    <tr style=\"text-align: right;\">\n",
       "      <th></th>\n",
       "      <th>movie_id</th>\n",
       "      <th>title</th>\n",
       "      <th>overview</th>\n",
       "      <th>genres</th>\n",
       "      <th>keywords</th>\n",
       "      <th>cast</th>\n",
       "      <th>crew</th>\n",
       "    </tr>\n",
       "  </thead>\n",
       "  <tbody>\n",
       "    <tr>\n",
       "      <th>0</th>\n",
       "      <td>19995</td>\n",
       "      <td>Avatar</td>\n",
       "      <td>In the 22nd century, a paraplegic Marine is di...</td>\n",
       "      <td>[Action, Adventure, Fantasy, Science Fiction]</td>\n",
       "      <td>[culture clash, future, space war, space colon...</td>\n",
       "      <td>[Sam Worthington, Zoe Saldana, Sigourney Weaver]</td>\n",
       "      <td>[James Cameron]</td>\n",
       "    </tr>\n",
       "    <tr>\n",
       "      <th>1</th>\n",
       "      <td>285</td>\n",
       "      <td>Pirates of the Caribbean: At World's End</td>\n",
       "      <td>Captain Barbossa, long believed to be dead, ha...</td>\n",
       "      <td>[Adventure, Fantasy, Action]</td>\n",
       "      <td>[ocean, drug abuse, exotic island, east india ...</td>\n",
       "      <td>[Johnny Depp, Orlando Bloom, Keira Knightley]</td>\n",
       "      <td>[Gore Verbinski]</td>\n",
       "    </tr>\n",
       "    <tr>\n",
       "      <th>2</th>\n",
       "      <td>206647</td>\n",
       "      <td>Spectre</td>\n",
       "      <td>A cryptic message from Bond’s past sends him o...</td>\n",
       "      <td>[Action, Adventure, Crime]</td>\n",
       "      <td>[spy, based on novel, secret agent, sequel, mi...</td>\n",
       "      <td>[Daniel Craig, Christoph Waltz, Léa Seydoux]</td>\n",
       "      <td>[Sam Mendes]</td>\n",
       "    </tr>\n",
       "    <tr>\n",
       "      <th>3</th>\n",
       "      <td>49026</td>\n",
       "      <td>The Dark Knight Rises</td>\n",
       "      <td>Following the death of District Attorney Harve...</td>\n",
       "      <td>[Action, Crime, Drama, Thriller]</td>\n",
       "      <td>[dc comics, crime fighter, terrorist, secret i...</td>\n",
       "      <td>[Christian Bale, Michael Caine, Gary Oldman]</td>\n",
       "      <td>[Christopher Nolan]</td>\n",
       "    </tr>\n",
       "    <tr>\n",
       "      <th>4</th>\n",
       "      <td>49529</td>\n",
       "      <td>John Carter</td>\n",
       "      <td>John Carter is a war-weary, former military ca...</td>\n",
       "      <td>[Action, Adventure, Science Fiction]</td>\n",
       "      <td>[based on novel, mars, medallion, space travel...</td>\n",
       "      <td>[Taylor Kitsch, Lynn Collins, Samantha Morton]</td>\n",
       "      <td>[Andrew Stanton]</td>\n",
       "    </tr>\n",
       "  </tbody>\n",
       "</table>\n",
       "</div>"
      ],
      "text/plain": [
       "   movie_id                                     title  \\\n",
       "0     19995                                    Avatar   \n",
       "1       285  Pirates of the Caribbean: At World's End   \n",
       "2    206647                                   Spectre   \n",
       "3     49026                     The Dark Knight Rises   \n",
       "4     49529                               John Carter   \n",
       "\n",
       "                                            overview  \\\n",
       "0  In the 22nd century, a paraplegic Marine is di...   \n",
       "1  Captain Barbossa, long believed to be dead, ha...   \n",
       "2  A cryptic message from Bond’s past sends him o...   \n",
       "3  Following the death of District Attorney Harve...   \n",
       "4  John Carter is a war-weary, former military ca...   \n",
       "\n",
       "                                          genres  \\\n",
       "0  [Action, Adventure, Fantasy, Science Fiction]   \n",
       "1                   [Adventure, Fantasy, Action]   \n",
       "2                     [Action, Adventure, Crime]   \n",
       "3               [Action, Crime, Drama, Thriller]   \n",
       "4           [Action, Adventure, Science Fiction]   \n",
       "\n",
       "                                            keywords  \\\n",
       "0  [culture clash, future, space war, space colon...   \n",
       "1  [ocean, drug abuse, exotic island, east india ...   \n",
       "2  [spy, based on novel, secret agent, sequel, mi...   \n",
       "3  [dc comics, crime fighter, terrorist, secret i...   \n",
       "4  [based on novel, mars, medallion, space travel...   \n",
       "\n",
       "                                               cast                 crew  \n",
       "0  [Sam Worthington, Zoe Saldana, Sigourney Weaver]      [James Cameron]  \n",
       "1     [Johnny Depp, Orlando Bloom, Keira Knightley]     [Gore Verbinski]  \n",
       "2      [Daniel Craig, Christoph Waltz, Léa Seydoux]         [Sam Mendes]  \n",
       "3      [Christian Bale, Michael Caine, Gary Oldman]  [Christopher Nolan]  \n",
       "4    [Taylor Kitsch, Lynn Collins, Samantha Morton]     [Andrew Stanton]  "
      ]
     },
     "execution_count": 27,
     "metadata": {},
     "output_type": "execute_result"
    }
   ],
   "source": [
    "movies.head()"
   ]
  },
  {
   "cell_type": "code",
   "execution_count": 28,
   "id": "34d7bab3",
   "metadata": {},
   "outputs": [
    {
     "data": {
      "text/plain": [
       "0       In the 22nd century, a paraplegic Marine is di...\n",
       "1       Captain Barbossa, long believed to be dead, ha...\n",
       "2       A cryptic message from Bond’s past sends him o...\n",
       "3       Following the death of District Attorney Harve...\n",
       "4       John Carter is a war-weary, former military ca...\n",
       "                              ...                        \n",
       "4804    El Mariachi just wants to play his guitar and ...\n",
       "4805    A newlywed couple's honeymoon is upended by th...\n",
       "4806    \"Signed, Sealed, Delivered\" introduces a dedic...\n",
       "4807    When ambitious New York attorney Sam is sent t...\n",
       "4808    Ever since the second grade when he first saw ...\n",
       "Name: overview, Length: 4806, dtype: object"
      ]
     },
     "execution_count": 28,
     "metadata": {},
     "output_type": "execute_result"
    }
   ],
   "source": [
    "movies['overview']"
   ]
  },
  {
   "cell_type": "markdown",
   "id": "616af0b3",
   "metadata": {},
   "source": [
    "# 3(h). EDA - The \"apply\" method in below is used to apply a function to each element of a pandas Series or DataFrame. In this case, the lambda function is used to \"split each string\" in the 'overview' column into a list of words."
   ]
  },
  {
   "cell_type": "code",
   "execution_count": 29,
   "id": "62b47c04",
   "metadata": {},
   "outputs": [
    {
     "data": {
      "text/plain": [
       "0       [In, the, 22nd, century,, a, paraplegic, Marin...\n",
       "1       [Captain, Barbossa,, long, believed, to, be, d...\n",
       "2       [A, cryptic, message, from, Bond’s, past, send...\n",
       "3       [Following, the, death, of, District, Attorney...\n",
       "4       [John, Carter, is, a, war-weary,, former, mili...\n",
       "                              ...                        \n",
       "4804    [El, Mariachi, just, wants, to, play, his, gui...\n",
       "4805    [A, newlywed, couple's, honeymoon, is, upended...\n",
       "4806    [\"Signed,, Sealed,, Delivered\", introduces, a,...\n",
       "4807    [When, ambitious, New, York, attorney, Sam, is...\n",
       "4808    [Ever, since, the, second, grade, when, he, fi...\n",
       "Name: overview, Length: 4806, dtype: object"
      ]
     },
     "execution_count": 29,
     "metadata": {},
     "output_type": "execute_result"
    }
   ],
   "source": [
    "movies['overview'].apply(lambda x:x.split())"
   ]
  },
  {
   "cell_type": "code",
   "execution_count": 30,
   "id": "97524d1b",
   "metadata": {},
   "outputs": [],
   "source": [
    "movies['overview'] = movies['overview'].apply(lambda x:x.split())"
   ]
  },
  {
   "cell_type": "code",
   "execution_count": 31,
   "id": "fa9b7027",
   "metadata": {},
   "outputs": [
    {
     "data": {
      "text/html": [
       "<div>\n",
       "<style scoped>\n",
       "    .dataframe tbody tr th:only-of-type {\n",
       "        vertical-align: middle;\n",
       "    }\n",
       "\n",
       "    .dataframe tbody tr th {\n",
       "        vertical-align: top;\n",
       "    }\n",
       "\n",
       "    .dataframe thead th {\n",
       "        text-align: right;\n",
       "    }\n",
       "</style>\n",
       "<table border=\"1\" class=\"dataframe\">\n",
       "  <thead>\n",
       "    <tr style=\"text-align: right;\">\n",
       "      <th></th>\n",
       "      <th>movie_id</th>\n",
       "      <th>title</th>\n",
       "      <th>overview</th>\n",
       "      <th>genres</th>\n",
       "      <th>keywords</th>\n",
       "      <th>cast</th>\n",
       "      <th>crew</th>\n",
       "    </tr>\n",
       "  </thead>\n",
       "  <tbody>\n",
       "    <tr>\n",
       "      <th>0</th>\n",
       "      <td>19995</td>\n",
       "      <td>Avatar</td>\n",
       "      <td>[In, the, 22nd, century,, a, paraplegic, Marin...</td>\n",
       "      <td>[Action, Adventure, Fantasy, Science Fiction]</td>\n",
       "      <td>[culture clash, future, space war, space colon...</td>\n",
       "      <td>[Sam Worthington, Zoe Saldana, Sigourney Weaver]</td>\n",
       "      <td>[James Cameron]</td>\n",
       "    </tr>\n",
       "    <tr>\n",
       "      <th>1</th>\n",
       "      <td>285</td>\n",
       "      <td>Pirates of the Caribbean: At World's End</td>\n",
       "      <td>[Captain, Barbossa,, long, believed, to, be, d...</td>\n",
       "      <td>[Adventure, Fantasy, Action]</td>\n",
       "      <td>[ocean, drug abuse, exotic island, east india ...</td>\n",
       "      <td>[Johnny Depp, Orlando Bloom, Keira Knightley]</td>\n",
       "      <td>[Gore Verbinski]</td>\n",
       "    </tr>\n",
       "    <tr>\n",
       "      <th>2</th>\n",
       "      <td>206647</td>\n",
       "      <td>Spectre</td>\n",
       "      <td>[A, cryptic, message, from, Bond’s, past, send...</td>\n",
       "      <td>[Action, Adventure, Crime]</td>\n",
       "      <td>[spy, based on novel, secret agent, sequel, mi...</td>\n",
       "      <td>[Daniel Craig, Christoph Waltz, Léa Seydoux]</td>\n",
       "      <td>[Sam Mendes]</td>\n",
       "    </tr>\n",
       "  </tbody>\n",
       "</table>\n",
       "</div>"
      ],
      "text/plain": [
       "   movie_id                                     title  \\\n",
       "0     19995                                    Avatar   \n",
       "1       285  Pirates of the Caribbean: At World's End   \n",
       "2    206647                                   Spectre   \n",
       "\n",
       "                                            overview  \\\n",
       "0  [In, the, 22nd, century,, a, paraplegic, Marin...   \n",
       "1  [Captain, Barbossa,, long, believed, to, be, d...   \n",
       "2  [A, cryptic, message, from, Bond’s, past, send...   \n",
       "\n",
       "                                          genres  \\\n",
       "0  [Action, Adventure, Fantasy, Science Fiction]   \n",
       "1                   [Adventure, Fantasy, Action]   \n",
       "2                     [Action, Adventure, Crime]   \n",
       "\n",
       "                                            keywords  \\\n",
       "0  [culture clash, future, space war, space colon...   \n",
       "1  [ocean, drug abuse, exotic island, east india ...   \n",
       "2  [spy, based on novel, secret agent, sequel, mi...   \n",
       "\n",
       "                                               cast              crew  \n",
       "0  [Sam Worthington, Zoe Saldana, Sigourney Weaver]   [James Cameron]  \n",
       "1     [Johnny Depp, Orlando Bloom, Keira Knightley]  [Gore Verbinski]  \n",
       "2      [Daniel Craig, Christoph Waltz, Léa Seydoux]      [Sam Mendes]  "
      ]
     },
     "execution_count": 31,
     "metadata": {},
     "output_type": "execute_result"
    }
   ],
   "source": [
    "movies.head(3)"
   ]
  },
  {
   "cell_type": "markdown",
   "id": "c7a9be0d",
   "metadata": {},
   "source": [
    "# 3(i). EDA - Now we have to remove space of any individual's name. for example, \"Sam Worthington\" should be converted to \"SamWorthington\""
   ]
  },
  {
   "cell_type": "code",
   "execution_count": 32,
   "id": "601a7628",
   "metadata": {},
   "outputs": [
    {
     "data": {
      "text/plain": [
       "0       [Action, Adventure, Fantasy, ScienceFiction]\n",
       "1                       [Adventure, Fantasy, Action]\n",
       "2                         [Action, Adventure, Crime]\n",
       "3                   [Action, Crime, Drama, Thriller]\n",
       "4                [Action, Adventure, ScienceFiction]\n",
       "                            ...                     \n",
       "4804                       [Action, Crime, Thriller]\n",
       "4805                               [Comedy, Romance]\n",
       "4806               [Comedy, Drama, Romance, TVMovie]\n",
       "4807                                              []\n",
       "4808                                   [Documentary]\n",
       "Name: genres, Length: 4806, dtype: object"
      ]
     },
     "execution_count": 32,
     "metadata": {},
     "output_type": "execute_result"
    }
   ],
   "source": [
    "movies['genres'].apply(lambda x:[i.replace(\" \",\"\") for i in x])"
   ]
  },
  {
   "cell_type": "code",
   "execution_count": 33,
   "id": "38ec7b2a",
   "metadata": {},
   "outputs": [],
   "source": [
    "movies['genres'] = movies['genres'].apply(lambda x:[i.replace(\" \",\"\") for i in x])"
   ]
  },
  {
   "cell_type": "code",
   "execution_count": 34,
   "id": "9adc626f",
   "metadata": {},
   "outputs": [],
   "source": [
    "movies['keywords'] = movies['keywords'].apply(lambda x:[i.replace(\" \",\"\") for i in x])"
   ]
  },
  {
   "cell_type": "code",
   "execution_count": 35,
   "id": "1ba88ff7",
   "metadata": {},
   "outputs": [],
   "source": [
    "movies['cast'] = movies['cast'].apply(lambda x:[i.replace(\" \",\"\") for i in x])"
   ]
  },
  {
   "cell_type": "code",
   "execution_count": 36,
   "id": "81e30dbd",
   "metadata": {},
   "outputs": [],
   "source": [
    "movies['crew'] = movies['crew'].apply(lambda x:[i.replace(\" \",\"\") for i in x])"
   ]
  },
  {
   "cell_type": "code",
   "execution_count": 37,
   "id": "c65432f3",
   "metadata": {},
   "outputs": [
    {
     "data": {
      "text/html": [
       "<div>\n",
       "<style scoped>\n",
       "    .dataframe tbody tr th:only-of-type {\n",
       "        vertical-align: middle;\n",
       "    }\n",
       "\n",
       "    .dataframe tbody tr th {\n",
       "        vertical-align: top;\n",
       "    }\n",
       "\n",
       "    .dataframe thead th {\n",
       "        text-align: right;\n",
       "    }\n",
       "</style>\n",
       "<table border=\"1\" class=\"dataframe\">\n",
       "  <thead>\n",
       "    <tr style=\"text-align: right;\">\n",
       "      <th></th>\n",
       "      <th>movie_id</th>\n",
       "      <th>title</th>\n",
       "      <th>overview</th>\n",
       "      <th>genres</th>\n",
       "      <th>keywords</th>\n",
       "      <th>cast</th>\n",
       "      <th>crew</th>\n",
       "    </tr>\n",
       "  </thead>\n",
       "  <tbody>\n",
       "    <tr>\n",
       "      <th>0</th>\n",
       "      <td>19995</td>\n",
       "      <td>Avatar</td>\n",
       "      <td>[In, the, 22nd, century,, a, paraplegic, Marin...</td>\n",
       "      <td>[Action, Adventure, Fantasy, ScienceFiction]</td>\n",
       "      <td>[cultureclash, future, spacewar, spacecolony, ...</td>\n",
       "      <td>[SamWorthington, ZoeSaldana, SigourneyWeaver]</td>\n",
       "      <td>[JamesCameron]</td>\n",
       "    </tr>\n",
       "    <tr>\n",
       "      <th>1</th>\n",
       "      <td>285</td>\n",
       "      <td>Pirates of the Caribbean: At World's End</td>\n",
       "      <td>[Captain, Barbossa,, long, believed, to, be, d...</td>\n",
       "      <td>[Adventure, Fantasy, Action]</td>\n",
       "      <td>[ocean, drugabuse, exoticisland, eastindiatrad...</td>\n",
       "      <td>[JohnnyDepp, OrlandoBloom, KeiraKnightley]</td>\n",
       "      <td>[GoreVerbinski]</td>\n",
       "    </tr>\n",
       "    <tr>\n",
       "      <th>2</th>\n",
       "      <td>206647</td>\n",
       "      <td>Spectre</td>\n",
       "      <td>[A, cryptic, message, from, Bond’s, past, send...</td>\n",
       "      <td>[Action, Adventure, Crime]</td>\n",
       "      <td>[spy, basedonnovel, secretagent, sequel, mi6, ...</td>\n",
       "      <td>[DanielCraig, ChristophWaltz, LéaSeydoux]</td>\n",
       "      <td>[SamMendes]</td>\n",
       "    </tr>\n",
       "  </tbody>\n",
       "</table>\n",
       "</div>"
      ],
      "text/plain": [
       "   movie_id                                     title  \\\n",
       "0     19995                                    Avatar   \n",
       "1       285  Pirates of the Caribbean: At World's End   \n",
       "2    206647                                   Spectre   \n",
       "\n",
       "                                            overview  \\\n",
       "0  [In, the, 22nd, century,, a, paraplegic, Marin...   \n",
       "1  [Captain, Barbossa,, long, believed, to, be, d...   \n",
       "2  [A, cryptic, message, from, Bond’s, past, send...   \n",
       "\n",
       "                                         genres  \\\n",
       "0  [Action, Adventure, Fantasy, ScienceFiction]   \n",
       "1                  [Adventure, Fantasy, Action]   \n",
       "2                    [Action, Adventure, Crime]   \n",
       "\n",
       "                                            keywords  \\\n",
       "0  [cultureclash, future, spacewar, spacecolony, ...   \n",
       "1  [ocean, drugabuse, exoticisland, eastindiatrad...   \n",
       "2  [spy, basedonnovel, secretagent, sequel, mi6, ...   \n",
       "\n",
       "                                            cast             crew  \n",
       "0  [SamWorthington, ZoeSaldana, SigourneyWeaver]   [JamesCameron]  \n",
       "1     [JohnnyDepp, OrlandoBloom, KeiraKnightley]  [GoreVerbinski]  \n",
       "2      [DanielCraig, ChristophWaltz, LéaSeydoux]      [SamMendes]  "
      ]
     },
     "execution_count": 37,
     "metadata": {},
     "output_type": "execute_result"
    }
   ],
   "source": [
    "movies.head(3)"
   ]
  },
  {
   "cell_type": "markdown",
   "id": "0b05ee58",
   "metadata": {},
   "source": [
    "# 3(j). EDA - Add a new column named 'tag' to a pandas DataFrame named movies. The 'tag' column is created by concatenating values from several other columns in the DataFrame, namely 'overview', 'genres', 'keywords', 'cast', and 'crew'."
   ]
  },
  {
   "cell_type": "code",
   "execution_count": 38,
   "id": "dc8978ff",
   "metadata": {},
   "outputs": [],
   "source": [
    "movies['tag'] = movies['overview'] + movies['genres'] + movies['keywords'] + movies['cast'] + movies['crew'] "
   ]
  },
  {
   "cell_type": "code",
   "execution_count": 39,
   "id": "a9f2b346",
   "metadata": {},
   "outputs": [
    {
     "data": {
      "text/html": [
       "<div>\n",
       "<style scoped>\n",
       "    .dataframe tbody tr th:only-of-type {\n",
       "        vertical-align: middle;\n",
       "    }\n",
       "\n",
       "    .dataframe tbody tr th {\n",
       "        vertical-align: top;\n",
       "    }\n",
       "\n",
       "    .dataframe thead th {\n",
       "        text-align: right;\n",
       "    }\n",
       "</style>\n",
       "<table border=\"1\" class=\"dataframe\">\n",
       "  <thead>\n",
       "    <tr style=\"text-align: right;\">\n",
       "      <th></th>\n",
       "      <th>movie_id</th>\n",
       "      <th>title</th>\n",
       "      <th>overview</th>\n",
       "      <th>genres</th>\n",
       "      <th>keywords</th>\n",
       "      <th>cast</th>\n",
       "      <th>crew</th>\n",
       "      <th>tag</th>\n",
       "    </tr>\n",
       "  </thead>\n",
       "  <tbody>\n",
       "    <tr>\n",
       "      <th>0</th>\n",
       "      <td>19995</td>\n",
       "      <td>Avatar</td>\n",
       "      <td>[In, the, 22nd, century,, a, paraplegic, Marin...</td>\n",
       "      <td>[Action, Adventure, Fantasy, ScienceFiction]</td>\n",
       "      <td>[cultureclash, future, spacewar, spacecolony, ...</td>\n",
       "      <td>[SamWorthington, ZoeSaldana, SigourneyWeaver]</td>\n",
       "      <td>[JamesCameron]</td>\n",
       "      <td>[In, the, 22nd, century,, a, paraplegic, Marin...</td>\n",
       "    </tr>\n",
       "    <tr>\n",
       "      <th>1</th>\n",
       "      <td>285</td>\n",
       "      <td>Pirates of the Caribbean: At World's End</td>\n",
       "      <td>[Captain, Barbossa,, long, believed, to, be, d...</td>\n",
       "      <td>[Adventure, Fantasy, Action]</td>\n",
       "      <td>[ocean, drugabuse, exoticisland, eastindiatrad...</td>\n",
       "      <td>[JohnnyDepp, OrlandoBloom, KeiraKnightley]</td>\n",
       "      <td>[GoreVerbinski]</td>\n",
       "      <td>[Captain, Barbossa,, long, believed, to, be, d...</td>\n",
       "    </tr>\n",
       "    <tr>\n",
       "      <th>2</th>\n",
       "      <td>206647</td>\n",
       "      <td>Spectre</td>\n",
       "      <td>[A, cryptic, message, from, Bond’s, past, send...</td>\n",
       "      <td>[Action, Adventure, Crime]</td>\n",
       "      <td>[spy, basedonnovel, secretagent, sequel, mi6, ...</td>\n",
       "      <td>[DanielCraig, ChristophWaltz, LéaSeydoux]</td>\n",
       "      <td>[SamMendes]</td>\n",
       "      <td>[A, cryptic, message, from, Bond’s, past, send...</td>\n",
       "    </tr>\n",
       "  </tbody>\n",
       "</table>\n",
       "</div>"
      ],
      "text/plain": [
       "   movie_id                                     title  \\\n",
       "0     19995                                    Avatar   \n",
       "1       285  Pirates of the Caribbean: At World's End   \n",
       "2    206647                                   Spectre   \n",
       "\n",
       "                                            overview  \\\n",
       "0  [In, the, 22nd, century,, a, paraplegic, Marin...   \n",
       "1  [Captain, Barbossa,, long, believed, to, be, d...   \n",
       "2  [A, cryptic, message, from, Bond’s, past, send...   \n",
       "\n",
       "                                         genres  \\\n",
       "0  [Action, Adventure, Fantasy, ScienceFiction]   \n",
       "1                  [Adventure, Fantasy, Action]   \n",
       "2                    [Action, Adventure, Crime]   \n",
       "\n",
       "                                            keywords  \\\n",
       "0  [cultureclash, future, spacewar, spacecolony, ...   \n",
       "1  [ocean, drugabuse, exoticisland, eastindiatrad...   \n",
       "2  [spy, basedonnovel, secretagent, sequel, mi6, ...   \n",
       "\n",
       "                                            cast             crew  \\\n",
       "0  [SamWorthington, ZoeSaldana, SigourneyWeaver]   [JamesCameron]   \n",
       "1     [JohnnyDepp, OrlandoBloom, KeiraKnightley]  [GoreVerbinski]   \n",
       "2      [DanielCraig, ChristophWaltz, LéaSeydoux]      [SamMendes]   \n",
       "\n",
       "                                                 tag  \n",
       "0  [In, the, 22nd, century,, a, paraplegic, Marin...  \n",
       "1  [Captain, Barbossa,, long, believed, to, be, d...  \n",
       "2  [A, cryptic, message, from, Bond’s, past, send...  "
      ]
     },
     "execution_count": 39,
     "metadata": {},
     "output_type": "execute_result"
    }
   ],
   "source": [
    "movies.head(3)"
   ]
  },
  {
   "cell_type": "markdown",
   "id": "e8f8151f",
   "metadata": {},
   "source": [
    "# 3(k). EDA - Make a new final dataframe using \"movie_id\", \"title\" and \"tag\" columns."
   ]
  },
  {
   "cell_type": "code",
   "execution_count": 40,
   "id": "9140eb28",
   "metadata": {},
   "outputs": [],
   "source": [
    "new_df = movies[['movie_id', 'title', 'tag']]"
   ]
  },
  {
   "cell_type": "code",
   "execution_count": 41,
   "id": "52405131",
   "metadata": {},
   "outputs": [],
   "source": [
    "new_df['tag'] = new_df['tag'].apply(lambda x: \" \".join(x))"
   ]
  },
  {
   "cell_type": "code",
   "execution_count": 42,
   "id": "03f24367",
   "metadata": {},
   "outputs": [
    {
     "name": "stdout",
     "output_type": "stream",
     "text": [
      "<class 'pandas.core.frame.DataFrame'>\n",
      "Int64Index: 4806 entries, 0 to 4808\n",
      "Data columns (total 3 columns):\n",
      " #   Column    Non-Null Count  Dtype \n",
      "---  ------    --------------  ----- \n",
      " 0   movie_id  4806 non-null   int64 \n",
      " 1   title     4806 non-null   object\n",
      " 2   tag       4806 non-null   object\n",
      "dtypes: int64(1), object(2)\n",
      "memory usage: 150.2+ KB\n"
     ]
    }
   ],
   "source": [
    "new_df.info()"
   ]
  },
  {
   "cell_type": "code",
   "execution_count": 43,
   "id": "b67c6f86",
   "metadata": {},
   "outputs": [
    {
     "data": {
      "text/plain": [
       "'A cryptic message from Bond’s past sends him on a trail to uncover a sinister organization. While M battles political forces to keep the secret service alive, Bond peels back the layers of deceit to reveal the terrible truth behind SPECTRE. Action Adventure Crime spy basedonnovel secretagent sequel mi6 britishsecretservice unitedkingdom DanielCraig ChristophWaltz LéaSeydoux SamMendes'"
      ]
     },
     "execution_count": 43,
     "metadata": {},
     "output_type": "execute_result"
    }
   ],
   "source": [
    "new_df['tag'][2]"
   ]
  },
  {
   "cell_type": "markdown",
   "id": "473354c2",
   "metadata": {},
   "source": [
    "# 3(l). EDA - Make the characters lower of the tag column"
   ]
  },
  {
   "cell_type": "code",
   "execution_count": 44,
   "id": "425bf0ba",
   "metadata": {},
   "outputs": [],
   "source": [
    "new_df['tag'] = new_df['tag'].apply(lambda x:x.lower())"
   ]
  },
  {
   "cell_type": "code",
   "execution_count": 45,
   "id": "d8698d7c",
   "metadata": {},
   "outputs": [
    {
     "data": {
      "text/plain": [
       "'in the 22nd century, a paraplegic marine is dispatched to the moon pandora on a unique mission, but becomes torn between following orders and protecting an alien civilization. action adventure fantasy sciencefiction cultureclash future spacewar spacecolony society spacetravel futuristic romance space alien tribe alienplanet cgi marine soldier battle loveaffair antiwar powerrelations mindandsoul 3d samworthington zoesaldana sigourneyweaver jamescameron'"
      ]
     },
     "execution_count": 45,
     "metadata": {},
     "output_type": "execute_result"
    }
   ],
   "source": [
    "# Check if characters are lowered or not.\n",
    "new_df['tag'][0]"
   ]
  },
  {
   "cell_type": "code",
   "execution_count": 46,
   "id": "782d6868",
   "metadata": {},
   "outputs": [
    {
     "data": {
      "text/plain": [
       "\"captain barbossa, long believed to be dead, has come back to life and is headed to the edge of the earth with will turner and elizabeth swann. but nothing is quite as it seems. adventure fantasy action ocean drugabuse exoticisland eastindiatradingcompany loveofone'slife traitor shipwreck strongwoman ship alliance calypso afterlife fighter pirate swashbuckler aftercreditsstinger johnnydepp orlandobloom keiraknightley goreverbinski\""
      ]
     },
     "execution_count": 46,
     "metadata": {},
     "output_type": "execute_result"
    }
   ],
   "source": [
    "new_df['tag'][1]"
   ]
  },
  {
   "cell_type": "markdown",
   "id": "59a3f8b0",
   "metadata": {},
   "source": [
    "## Now we have to calculate similarities between two tags"
   ]
  },
  {
   "cell_type": "markdown",
   "id": "217a9a99",
   "metadata": {},
   "source": [
    "# 4. Covert value of \"tag\" columns into \"vectors\""
   ]
  },
  {
   "cell_type": "code",
   "execution_count": 47,
   "id": "403390a6",
   "metadata": {},
   "outputs": [],
   "source": [
    "from sklearn.feature_extraction.text import CountVectorizer\n",
    "cv = CountVectorizer(max_features=5000, stop_words='english') ## Here, 5000 is the most used words"
   ]
  },
  {
   "cell_type": "code",
   "execution_count": 48,
   "id": "474a2f6c",
   "metadata": {},
   "outputs": [],
   "source": [
    "vectors = cv.fit_transform(new_df['tag']).toarray()"
   ]
  },
  {
   "cell_type": "code",
   "execution_count": 49,
   "id": "4dbff35a",
   "metadata": {},
   "outputs": [
    {
     "data": {
      "text/plain": [
       "(4806, 5000)"
      ]
     },
     "execution_count": 49,
     "metadata": {},
     "output_type": "execute_result"
    }
   ],
   "source": [
    "vectors.shape"
   ]
  },
  {
   "cell_type": "code",
   "execution_count": 50,
   "id": "c0659a49",
   "metadata": {},
   "outputs": [
    {
     "data": {
      "text/plain": [
       "array(['000', '007', '10', ..., 'zone', 'zoo', 'zooeydeschanel'],\n",
       "      dtype=object)"
      ]
     },
     "execution_count": 50,
     "metadata": {},
     "output_type": "execute_result"
    }
   ],
   "source": [
    "cv.get_feature_names_out()"
   ]
  },
  {
   "cell_type": "markdown",
   "id": "3e66b538",
   "metadata": {},
   "source": [
    "## 5. We will use nltk (Natural Language Tool Kit) library for removing repeatation of similar words. Like, \"action\", \"actions\" both are similar word, but till now our program is considering \"action\" and \"actions\" as two different features. We will use stem for making it single feature"
   ]
  },
  {
   "cell_type": "code",
   "execution_count": 51,
   "id": "bd73dedf",
   "metadata": {},
   "outputs": [],
   "source": [
    "import nltk"
   ]
  },
  {
   "cell_type": "code",
   "execution_count": 52,
   "id": "c893bbe9",
   "metadata": {},
   "outputs": [],
   "source": [
    "from nltk.stem.porter import PorterStemmer\n",
    "ps = PorterStemmer()"
   ]
  },
  {
   "cell_type": "code",
   "execution_count": 53,
   "id": "5a7fd337",
   "metadata": {},
   "outputs": [],
   "source": [
    "def stem(text):\n",
    "    y = []\n",
    "    for i in text.split():\n",
    "        y.append(ps.stem(i))\n",
    "    \n",
    "    return \" \".join(y)"
   ]
  },
  {
   "cell_type": "code",
   "execution_count": 54,
   "id": "f555bdb1",
   "metadata": {},
   "outputs": [
    {
     "data": {
      "text/plain": [
       "'love'"
      ]
     },
     "execution_count": 54,
     "metadata": {},
     "output_type": "execute_result"
    }
   ],
   "source": [
    "ps.stem('loved')"
   ]
  },
  {
   "cell_type": "code",
   "execution_count": 55,
   "id": "64bb7db5",
   "metadata": {},
   "outputs": [
    {
     "data": {
      "text/plain": [
       "'love'"
      ]
     },
     "execution_count": 55,
     "metadata": {},
     "output_type": "execute_result"
    }
   ],
   "source": [
    "ps.stem('loving')"
   ]
  },
  {
   "cell_type": "code",
   "execution_count": 56,
   "id": "291ecc91",
   "metadata": {},
   "outputs": [
    {
     "data": {
      "text/plain": [
       "'love'"
      ]
     },
     "execution_count": 56,
     "metadata": {},
     "output_type": "execute_result"
    }
   ],
   "source": [
    "ps.stem('love')"
   ]
  },
  {
   "cell_type": "code",
   "execution_count": 57,
   "id": "187b3c8d",
   "metadata": {},
   "outputs": [
    {
     "data": {
      "text/plain": [
       "'danc'"
      ]
     },
     "execution_count": 57,
     "metadata": {},
     "output_type": "execute_result"
    }
   ],
   "source": [
    "ps.stem('dancing')"
   ]
  },
  {
   "cell_type": "code",
   "execution_count": 58,
   "id": "f7fc7099",
   "metadata": {},
   "outputs": [
    {
     "data": {
      "text/plain": [
       "'in the 22nd century, a parapleg marin is dispatch to the moon pandora on a uniqu mission, but becom torn between follow order and protect an alien civilization. action adventur fantasi sciencefict cultureclash futur spacewar spacecoloni societi spacetravel futurist romanc space alien tribe alienplanet cgi marin soldier battl loveaffair antiwar powerrel mindandsoul 3d samworthington zoesaldana sigourneyweav jamescameron'"
      ]
     },
     "execution_count": 58,
     "metadata": {},
     "output_type": "execute_result"
    }
   ],
   "source": [
    "stem('in the 22nd century, a paraplegic marine is dispatched to the moon pandora on a unique mission, but becomes torn between following orders and protecting an alien civilization. action adventure fantasy sciencefiction cultureclash future spacewar spacecolony society spacetravel futuristic romance space alien tribe alienplanet cgi marine soldier battle loveaffair antiwar powerrelations mindandsoul 3d samworthington zoesaldana sigourneyweaver jamescameron')"
   ]
  },
  {
   "cell_type": "code",
   "execution_count": 59,
   "id": "d47745bc",
   "metadata": {},
   "outputs": [],
   "source": [
    "new_df['tag'] = new_df['tag'].apply(stem)"
   ]
  },
  {
   "cell_type": "markdown",
   "id": "34a64eb4",
   "metadata": {},
   "source": [
    "# 6. Again Make the vector using our \"stemmed\" words"
   ]
  },
  {
   "cell_type": "code",
   "execution_count": 60,
   "id": "78e28719",
   "metadata": {},
   "outputs": [],
   "source": [
    "vectors = cv.fit_transform(new_df['tag']).toarray()"
   ]
  },
  {
   "cell_type": "code",
   "execution_count": 61,
   "id": "aa32e310",
   "metadata": {},
   "outputs": [
    {
     "data": {
      "text/plain": [
       "array([[0, 0, 0, ..., 0, 0, 0],\n",
       "       [0, 0, 0, ..., 0, 0, 0],\n",
       "       [0, 0, 0, ..., 0, 0, 0],\n",
       "       ...,\n",
       "       [0, 0, 0, ..., 0, 0, 0],\n",
       "       [0, 0, 0, ..., 0, 0, 0],\n",
       "       [0, 0, 0, ..., 0, 0, 0]], dtype=int64)"
      ]
     },
     "execution_count": 61,
     "metadata": {},
     "output_type": "execute_result"
    }
   ],
   "source": [
    "vectors"
   ]
  },
  {
   "cell_type": "code",
   "execution_count": 62,
   "id": "caf8fe0e",
   "metadata": {},
   "outputs": [
    {
     "data": {
      "text/plain": [
       "{'century': 740,\n",
       " 'marin': 2806,\n",
       " 'dispatch': 1288,\n",
       " 'moon': 3017,\n",
       " 'pandora': 3282,\n",
       " 'uniqu': 4681,\n",
       " 'mission': 2984,\n",
       " 'becom': 442,\n",
       " 'torn': 4554,\n",
       " 'follow': 1729,\n",
       " 'order': 3235,\n",
       " 'protect': 3534,\n",
       " 'alien': 157,\n",
       " 'action': 79,\n",
       " 'adventur': 106,\n",
       " 'fantasi': 1629,\n",
       " 'sciencefict': 3930,\n",
       " 'cultureclash': 1087,\n",
       " 'futur': 1807,\n",
       " 'societi': 4153,\n",
       " 'spacetravel': 4198,\n",
       " 'futurist': 1809,\n",
       " 'romanc': 3811,\n",
       " 'space': 4192,\n",
       " 'tribe': 4605,\n",
       " 'alienplanet': 160,\n",
       " 'soldier': 4160,\n",
       " 'battl': 425,\n",
       " '3d': 47,\n",
       " 'zoesaldana': 4994,\n",
       " 'sigourneyweav': 4080,\n",
       " 'jamescameron': 2325,\n",
       " 'captain': 680,\n",
       " 'long': 2695,\n",
       " 'believ': 455,\n",
       " 'dead': 1152,\n",
       " 'ha': 1960,\n",
       " 'come': 917,\n",
       " 'life': 2647,\n",
       " 'head': 2018,\n",
       " 'edg': 1408,\n",
       " 'earth': 1396,\n",
       " 'turner': 4628,\n",
       " 'elizabeth': 1436,\n",
       " 'noth': 3172,\n",
       " 'quit': 3572,\n",
       " 'ocean': 3198,\n",
       " 'drugabus': 1358,\n",
       " 'exoticisland': 1571,\n",
       " 'loveofone': 2729,\n",
       " 'slif': 4132,\n",
       " 'traitor': 4584,\n",
       " 'shipwreck': 4056,\n",
       " 'ship': 4055,\n",
       " 'allianc': 167,\n",
       " 'afterlif': 119,\n",
       " 'fighter': 1680,\n",
       " 'pirat': 3391,\n",
       " 'aftercreditssting': 118,\n",
       " 'johnnydepp': 2426,\n",
       " 'orlandobloom': 3242,\n",
       " 'keiraknightley': 2497,\n",
       " 'goreverbinski': 1889,\n",
       " 'messag': 2908,\n",
       " 'bond': 545,\n",
       " 'past': 3313,\n",
       " 'send': 3990,\n",
       " 'trail': 4581,\n",
       " 'uncov': 4657,\n",
       " 'sinist': 4102,\n",
       " 'organization': 3239,\n",
       " 'polit': 3428,\n",
       " 'forc': 1737,\n",
       " 'secret': 3962,\n",
       " 'servic': 4010,\n",
       " 'alive': 164,\n",
       " 'deceit': 1168,\n",
       " 'reveal': 3734,\n",
       " 'terribl': 4462,\n",
       " 'truth': 4621,\n",
       " 'crime': 1059,\n",
       " 'spi': 4214,\n",
       " 'basedonnovel': 412,\n",
       " 'secretag': 3963,\n",
       " 'sequel': 3999,\n",
       " 'britishsecretservic': 598,\n",
       " 'danielcraig': 1113,\n",
       " 'christophwaltz': 833,\n",
       " 'sammend': 3886,\n",
       " 'death': 1159,\n",
       " 'district': 1291,\n",
       " 'attorney': 345,\n",
       " 'harvey': 2005,\n",
       " 'batman': 424,\n",
       " 'assum': 330,\n",
       " 'respons': 3718,\n",
       " 'late': 2586,\n",
       " 'reput': 3703,\n",
       " 'subsequ': 4334,\n",
       " 'hunt': 2156,\n",
       " 'gotham': 1894,\n",
       " 'citi': 847,\n",
       " 'polic': 3421,\n",
       " 'year': 4972,\n",
       " 'later': 2587,\n",
       " 'encount': 1473,\n",
       " 'mysteri': 3077,\n",
       " 'kyle': 2561,\n",
       " 'villain': 4778,\n",
       " 'new': 3128,\n",
       " 'terrorist': 4467,\n",
       " 'leader': 2604,\n",
       " 'overwhelm': 3262,\n",
       " 'dark': 1122,\n",
       " 'knight': 2541,\n",
       " 'resurfac': 3725,\n",
       " 'brand': 569,\n",
       " 'enemy': 1481,\n",
       " 'drama': 1338,\n",
       " 'thriller': 4503,\n",
       " 'dccomic': 1150,\n",
       " 'crimefight': 1060,\n",
       " 'secretident': 3965,\n",
       " 'burglar': 638,\n",
       " 'gothamc': 1895,\n",
       " 'vigilant': 4774,\n",
       " 'cover': 1034,\n",
       " 'superhero': 4359,\n",
       " 'terror': 4466,\n",
       " 'destruct': 1225,\n",
       " 'imax': 2195,\n",
       " 'flood': 1718,\n",
       " 'christianbal': 818,\n",
       " 'michaelcain': 2922,\n",
       " 'garyoldman': 1835,\n",
       " 'christophernolan': 830,\n",
       " 'john': 2414,\n",
       " 'carter': 705,\n",
       " 'war': 4830,\n",
       " 'militari': 2953,\n",
       " 'inexplic': 2228,\n",
       " 'transport': 4589,\n",
       " 'exot': 1570,\n",
       " 'planet': 3399,\n",
       " 'reluctantli': 3682,\n",
       " 'embroil': 1451,\n",
       " 'epic': 1506,\n",
       " 'conflict': 962,\n",
       " 'world': 4945,\n",
       " 'brink': 595,\n",
       " 'rediscov': 3653,\n",
       " 'hi': 2054,\n",
       " 'human': 2146,\n",
       " 'realiz': 3626,\n",
       " 'surviv': 4386,\n",
       " 'peopl': 3344,\n",
       " 'rest': 3719,\n",
       " 'hands': 1973,\n",
       " 'mar': 2798,\n",
       " 'medallion': 2877,\n",
       " 'princess': 3498,\n",
       " 'steampunk': 4257,\n",
       " 'martian': 2828,\n",
       " 'escap': 1517,\n",
       " 'superhumanstrength': 4361,\n",
       " '19thcenturi': 35,\n",
       " 'samanthamorton': 3885,\n",
       " 'seemingli': 3980,\n",
       " 'spider': 4215,\n",
       " 'man': 2782,\n",
       " 'goe': 1880,\n",
       " 'includ': 2212,\n",
       " 'shape': 4039,\n",
       " 'shift': 4054,\n",
       " 'superpow': 4366,\n",
       " 'alter': 174,\n",
       " 'ego': 1420,\n",
       " 'peter': 3358,\n",
       " 'parker': 3298,\n",
       " 'deal': 1156,\n",
       " 'nemesi': 3118,\n",
       " 'eddi': 1405,\n",
       " 'caught': 725,\n",
       " 'love': 2725,\n",
       " 'triangle': 4604,\n",
       " 'dualident': 1369,\n",
       " 'amnesia': 198,\n",
       " 'forgiv': 1748,\n",
       " 'wretch': 4960,\n",
       " 'deathofafriend': 1160,\n",
       " 'sand': 3894,\n",
       " 'hostil': 2129,\n",
       " 'marvelcom': 2835,\n",
       " 'reveng': 3737,\n",
       " 'tobeymaguir': 4532,\n",
       " 'kirstendunst': 2535,\n",
       " 'jamesfranco': 2326,\n",
       " 'samraimi': 3888,\n",
       " 'kingdom': 2532,\n",
       " 'bandit': 390,\n",
       " 'rider': 3756,\n",
       " 'hide': 2057,\n",
       " 'tower': 4566,\n",
       " 'taken': 4416,\n",
       " 'hostag': 2127,\n",
       " 'beauti': 435,\n",
       " 'bound': 555,\n",
       " 'teen': 4440,\n",
       " '70': 52,\n",
       " 'feet': 1658,\n",
       " 'golden': 1882,\n",
       " 'hair': 1963,\n",
       " 'look': 2698,\n",
       " 'ticket': 4513,\n",
       " 'lock': 2685,\n",
       " 'away': 367,\n",
       " 'years': 4974,\n",
       " 'strike': 4309,\n",
       " 'handsom': 1974,\n",
       " 'thief': 4487,\n",
       " 'unlik': 4689,\n",
       " 'duo': 1376,\n",
       " 'set': 4013,\n",
       " 'pack': 3269,\n",
       " 'complet': 944,\n",
       " 'super': 4357,\n",
       " 'cop': 1002,\n",
       " 'gang': 1824,\n",
       " 'pub': 3545,\n",
       " 'anim': 229,\n",
       " 'famili': 1617,\n",
       " 'magic': 2765,\n",
       " 'hors': 2121,\n",
       " 'fairytal': 1606,\n",
       " 'music': 3067,\n",
       " 'duringcreditssting': 1378,\n",
       " 'mandymoor': 2785,\n",
       " 'toni': 4547,\n",
       " 'stark': 4249,\n",
       " 'tri': 4601,\n",
       " 'program': 3519,\n",
       " 'thing': 4489,\n",
       " 'awri': 369,\n",
       " 'hero': 2049,\n",
       " 'ultim': 4647,\n",
       " 'test': 4470,\n",
       " 'fate': 1642,\n",
       " 'hang': 1976,\n",
       " 'aveng': 359,\n",
       " 'stop': 4287,\n",
       " 'plans': 3401,\n",
       " 'soon': 4175,\n",
       " 'unexpect': 4670,\n",
       " 'way': 4856,\n",
       " 'global': 1875,\n",
       " 'adventure': 107,\n",
       " 'basedoncomicbook': 410,\n",
       " 'vision': 4793,\n",
       " 'marvelcinematicunivers': 2834,\n",
       " 'robertdowneyjr': 3785,\n",
       " 'chrishemsworth': 812,\n",
       " 'markruffalo': 2810,\n",
       " 'harri': 1996,\n",
       " 'begin': 451,\n",
       " 'discov': 1277,\n",
       " 'old': 3211,\n",
       " 'book': 547,\n",
       " 'mark': 2808,\n",
       " 'properti': 3528,\n",
       " 'half': 1965,\n",
       " 'blood': 526,\n",
       " 'prince': 3497,\n",
       " 'learn': 2607,\n",
       " 'lord': 2703,\n",
       " 'witch': 4922,\n",
       " 'broom': 608,\n",
       " 'teenagecrush': 4442,\n",
       " 'werewolf': 4873,\n",
       " 'danielradcliff': 1115,\n",
       " 'rupertgrint': 3850,\n",
       " 'emmawatson': 1463,\n",
       " 'fear': 1650,\n",
       " 'god': 1879,\n",
       " 'lik': 2655,\n",
       " 'left': 2611,\n",
       " 'city': 849,\n",
       " 'modern': 3001,\n",
       " 'day': 1146,\n",
       " 'wrestl': 4958,\n",
       " 'sort': 4181,\n",
       " 'realli': 3627,\n",
       " 'superman': 4362,\n",
       " 'threat': 4500,\n",
       " 'quickli': 3569,\n",
       " 'mankind': 2791,\n",
       " 'greater': 1915,\n",
       " 'danger': 1111,\n",
       " 'known': 2546,\n",
       " 'benaffleck': 461,\n",
       " 'zacksnyd': 4988,\n",
       " 'return': 3731,\n",
       " 'allow': 168,\n",
       " 'walk': 4820,\n",
       " 'free': 1779,\n",
       " 'wa': 4810,\n",
       " 'abandon': 56,\n",
       " 'plot': 3412,\n",
       " 'million': 2956,\n",
       " 'kill': 2523,\n",
       " 'chang': 752,\n",
       " 'face': 1598,\n",
       " 'forever': 1745,\n",
       " 'rid': 3753,\n",
       " 'steel': 4258,\n",
       " 'savingtheworld': 3911,\n",
       " 'kevinspacey': 2511,\n",
       " 'katebosworth': 2484,\n",
       " 'bryansing': 620,\n",
       " 'continu': 989,\n",
       " 'jame': 2322,\n",
       " 'casino': 711,\n",
       " 'betray': 479,\n",
       " 'woman': 4927,\n",
       " '007': 1,\n",
       " 'fight': 1679,\n",
       " 'urg': 4714,\n",
       " 'make': 2773,\n",
       " 'latest': 2588,\n",
       " 'pursu': 3558,\n",
       " 'determin': 1229,\n",
       " 'interrog': 2271,\n",
       " 'mr': 3053,\n",
       " 'white': 4887,\n",
       " 'organ': 3238,\n",
       " 'blackmail': 515,\n",
       " 'far': 1632,\n",
       " 'complex': 945,\n",
       " 'anyon': 263,\n",
       " 'imagined': 2194,\n",
       " 'undercov': 4659,\n",
       " 'marcforst': 2799,\n",
       " 'jack': 2308,\n",
       " 'work': 4940,\n",
       " 'debt': 1163,\n",
       " 'jones': 2440,\n",
       " 'attempt': 340,\n",
       " 'avoid': 361,\n",
       " 'etern': 1527,\n",
       " 'fortunetel': 1755,\n",
       " 'monster': 3010,\n",
       " 'daughter': 1129,\n",
       " 'texa': 4472,\n",
       " 'ranger': 3602,\n",
       " 'chase': 773,\n",
       " 'outlaw': 3255,\n",
       " 'led': 2609,\n",
       " 'ambush': 189,\n",
       " 'survivor': 4389,\n",
       " 'american': 191,\n",
       " 'indian': 2221,\n",
       " 'nurs': 3185,\n",
       " 'health': 2021,\n",
       " 'don': 1316,\n",
       " 'mask': 2838,\n",
       " 'ride': 3755,\n",
       " 'silver': 4084,\n",
       " 'team': 4434,\n",
       " 'bring': 594,\n",
       " 'justice': 2474,\n",
       " 'western': 4880,\n",
       " 'partner': 3306,\n",
       " 'lawyer': 2598,\n",
       " 'train': 4582,\n",
       " 'young': 4978,\n",
       " 'boy': 562,\n",
       " 'extraordinari': 1589,\n",
       " 'power': 3456,\n",
       " 'thi': 4486,\n",
       " 'journey': 2453,\n",
       " 'came': 660,\n",
       " 'sent': 3995,\n",
       " 'emerg': 1452,\n",
       " 'save': 3910,\n",
       " 'symbol': 4410,\n",
       " 'hope': 2112,\n",
       " 'superhuman': 4360,\n",
       " 'alieninvas': 158,\n",
       " 'reboot': 3636,\n",
       " 'amyadam': 204,\n",
       " 'michaelshannon': 2928,\n",
       " 'incred': 2216,\n",
       " 'lion': 2665,\n",
       " 'luci': 2739,\n",
       " 'susan': 4391,\n",
       " 'narnia': 3088,\n",
       " 'aid': 133,\n",
       " 'princ': 3496,\n",
       " 'threaten': 4501,\n",
       " 'evil': 1550,\n",
       " 'king': 2531,\n",
       " 'help': 2046,\n",
       " 'color': 912,\n",
       " 'cast': 712,\n",
       " 'characters': 763,\n",
       " 'clan': 857,\n",
       " 'embark': 1449,\n",
       " 'quest': 3566,\n",
       " 'ensur': 1496,\n",
       " 'right': 3761,\n",
       " 'heir': 2036,\n",
       " 'fictionalplac': 1675,\n",
       " 'brothersisterrelationship': 613,\n",
       " 'matteroflifeanddeath': 2857,\n",
       " 'faith': 1607,\n",
       " 'uncl': 4653,\n",
       " 'fantasyworld': 1631,\n",
       " 'enemi': 1479,\n",
       " 'safeti': 3872,\n",
       " 'nick': 3145,\n",
       " 'director': 1267,\n",
       " 'intern': 2268,\n",
       " 'agenc': 124,\n",
       " 'need': 3110,\n",
       " 'pull': 3550,\n",
       " 'disaster': 1275,\n",
       " 'span': 4200,\n",
       " 'globe': 1876,\n",
       " 'dare': 1121,\n",
       " 'recruit': 3649,\n",
       " 'effort': 1418,\n",
       " 'begins': 452,\n",
       " 'newyork': 3141,\n",
       " 'shield': 4053,\n",
       " 'chrisevan': 811,\n",
       " 'cross': 1070,\n",
       " 'path': 3315,\n",
       " 'sure': 4375,\n",
       " 'ruthless': 3860,\n",
       " 'artist': 312,\n",
       " 'use': 4717,\n",
       " 'fabl': 1596,\n",
       " 'youth': 4984,\n",
       " 'aboard': 61,\n",
       " 'queen': 3563,\n",
       " 'anne': 238,\n",
       " 'revenge': 3738,\n",
       " 'formid': 1750,\n",
       " 'doesn': 1309,\n",
       " 'know': 2544,\n",
       " 'sea': 3947,\n",
       " 'mutini': 3075,\n",
       " 'sword': 4405,\n",
       " 'sail': 3876,\n",
       " 'duke': 1374,\n",
       " 'mermaid': 2906,\n",
       " 'penélopecruz': 3343,\n",
       " 'agent': 127,\n",
       " 'smith': 4140,\n",
       " 'tommi': 4543,\n",
       " 'lee': 2610,\n",
       " 'time': 4520,\n",
       " 'seen': 3981,\n",
       " '15': 8,\n",
       " 'men': 2895,\n",
       " 'black': 513,\n",
       " 'aliens': 161,\n",
       " 'stake': 4239,\n",
       " 'travel': 4593,\n",
       " 'univers': 4683,\n",
       " 'told': 4538,\n",
       " 'themselv': 4483,\n",
       " 'josh': 2447,\n",
       " 'agency': 125,\n",
       " 'humankind': 2149,\n",
       " 'comedi': 920,\n",
       " 'timetravel': 4523,\n",
       " 'willsmith': 4908,\n",
       " 'tommyleejon': 4544,\n",
       " 'joshbrolin': 2448,\n",
       " 'barrysonnenfeld': 406,\n",
       " 'immedi': 2196,\n",
       " 'event': 1540,\n",
       " 'desol': 1216,\n",
       " 'dwarv': 1382,\n",
       " 'defend': 1179,\n",
       " 'mountain': 3043,\n",
       " 'treasur': 4595,\n",
       " 'claim': 853,\n",
       " 'ruin': 3842,\n",
       " 'elv': 1447,\n",
       " 'meanwhil': 2873,\n",
       " 'armi': 296,\n",
       " 'orc': 3233,\n",
       " 'march': 2800,\n",
       " 'fuel': 1798,\n",
       " 'rise': 3768,\n",
       " 'middle': 2939,\n",
       " 'fall': 1610,\n",
       " 'corrupt': 1011,\n",
       " 'hobbit': 2086,\n",
       " 'dragon': 1337,\n",
       " 'unlikelyfriendship': 4690,\n",
       " 'swordandsorceri': 4406,\n",
       " 'martinfreeman': 2831,\n",
       " 'ianmckellen': 2167,\n",
       " 'peterjackson': 3360,\n",
       " 'outcast': 3253,\n",
       " 'high': 2058,\n",
       " 'parent': 3291,\n",
       " 'leav': 2608,\n",
       " 'rais': 3594,\n",
       " 'ben': 460,\n",
       " 'aunt': 351,\n",
       " 'like': 2656,\n",
       " 'teenagers': 4445,\n",
       " 'figur': 1681,\n",
       " 'got': 1893,\n",
       " 'person': 3353,\n",
       " 'today': 4533,\n",
       " 'belong': 458,\n",
       " 'father': 1643,\n",
       " 'understand': 4665,\n",
       " 'parents': 3292,\n",
       " 'disappear': 1272,\n",
       " 'lead': 2603,\n",
       " 'lab': 2563,\n",
       " 'dr': 1334,\n",
       " 'collis': 908,\n",
       " 'cours': 1028,\n",
       " 'choic': 803,\n",
       " 'destini': 1221,\n",
       " 'lossoffath': 2711,\n",
       " 'emmaston': 1461,\n",
       " 'robin': 3791,\n",
       " 'happen': 1981,\n",
       " 'die': 1251,\n",
       " 'robert': 3783,\n",
       " 'promis': 3524,\n",
       " 'identity': 2175,\n",
       " 'widow': 4891,\n",
       " 'draw': 1340,\n",
       " 'town': 4567,\n",
       " 'sheriff': 4050,\n",
       " 'archer': 286,\n",
       " 'middleag': 2940,\n",
       " 'mediev': 2881,\n",
       " 'russellcrow': 3856,\n",
       " 'cateblanchett': 718,\n",
       " 'ridleyscott': 3758,\n",
       " 'success': 4339,\n",
       " 'mountains': 3044,\n",
       " 'gain': 1816,\n",
       " 'ring': 3764,\n",
       " 'gold': 1881,\n",
       " 'wizard': 4924,\n",
       " 'shock': 4057,\n",
       " 'orphan': 3244,\n",
       " 'trade': 4573,\n",
       " 'carefre': 691,\n",
       " 'exist': 1566,\n",
       " 'roam': 3777,\n",
       " 'hall': 1966,\n",
       " 'jordan': 2444,\n",
       " 'colleg': 905,\n",
       " 'otherworldli': 3250,\n",
       " 'north': 3168,\n",
       " 'unawar': 4651,\n",
       " 'destiny': 1222,\n",
       " 'england': 1486,\n",
       " 'experi': 1575,\n",
       " 'basedonyoungadultnovel': 419,\n",
       " 'nicolekidman': 3149,\n",
       " 'chrisweitz': 834,\n",
       " 'york': 4976,\n",
       " 'ambiti': 187,\n",
       " 'movi': 3048,\n",
       " 'produc': 3512,\n",
       " 'hire': 2076,\n",
       " 'crew': 1057,\n",
       " 'skull': 4118,\n",
       " 'island': 2299,\n",
       " 'kong': 2547,\n",
       " 'giant': 1865,\n",
       " 'ape': 268,\n",
       " 'smitten': 4141,\n",
       " 'screenplay': 3942,\n",
       " 'filmmak': 1686,\n",
       " 'filmproduc': 1687,\n",
       " 'dinosaur': 1263,\n",
       " 'naomiwatt': 3086,\n",
       " 'jackblack': 2310,\n",
       " 'adrienbrodi': 100,\n",
       " 'rose': 3829,\n",
       " 'tell': 4454,\n",
       " 'stori': 4290,\n",
       " 'lizzi': 2678,\n",
       " 'lewi': 2636,\n",
       " 'bobbi': 536,\n",
       " 'april': 280,\n",
       " 'titan': 4530,\n",
       " 'board': 532,\n",
       " 'depart': 1201,\n",
       " 'upper': 4707,\n",
       " 'class': 860,\n",
       " 'passeng': 3311,\n",
       " 'mother': 3033,\n",
       " 'ruth': 3859,\n",
       " 'fiancé': 1673,\n",
       " 'drifter': 1349,\n",
       " 'best': 474,\n",
       " 'friend': 1787,\n",
       " 'win': 4910,\n",
       " 'game': 1821,\n",
       " 'explain': 1580,\n",
       " 'voyag': 4808,\n",
       " '20': 36,\n",
       " 'panic': 3283,\n",
       " 'disast': 1274,\n",
       " 'classdiffer': 861,\n",
       " 'starcrossedlov': 4246,\n",
       " '1910': 16,\n",
       " 'katewinslet': 2487,\n",
       " 'leonardodicaprio': 2625,\n",
       " 'age': 122,\n",
       " 'collect': 903,\n",
       " 'govern': 1897,\n",
       " 'pass': 3310,\n",
       " 'act': 78,\n",
       " 'design': 1213,\n",
       " 'polar': 3420,\n",
       " 'caus': 726,\n",
       " 'faction': 1601,\n",
       " 'iron': 2297,\n",
       " 'america': 190,\n",
       " 'civilwar': 852,\n",
       " 'scarlettjohansson': 3920,\n",
       " 'beam': 430,\n",
       " 'radio': 3586,\n",
       " 'signal': 4079,\n",
       " 'form': 1749,\n",
       " 'sever': 4021,\n",
       " 'craft': 1042,\n",
       " 'water': 4854,\n",
       " 'hawaii': 2015,\n",
       " 'lieuten': 2644,\n",
       " 'alex': 150,\n",
       " 'hopper': 2115,\n",
       " 'weapon': 4861,\n",
       " 'offic': 3204,\n",
       " 'assign': 326,\n",
       " 'paul': 3324,\n",
       " 'engag': 1484,\n",
       " 'unimagin': 4679,\n",
       " 'strength': 4305,\n",
       " 'live': 2674,\n",
       " 'potenti': 3451,\n",
       " 'brother': 610,\n",
       " 'admir': 95,\n",
       " 'shane': 4036,\n",
       " 'expect': 1572,\n",
       " 'navi': 3100,\n",
       " 'hongkong': 2106,\n",
       " 'soccer': 4151,\n",
       " 'scientist': 3932,\n",
       " 'peterberg': 3359,\n",
       " 'park': 3297,\n",
       " 'featur': 1653,\n",
       " 'fulli': 1801,\n",
       " 'theme': 4482,\n",
       " 'origin': 3241,\n",
       " 'dna': 1302,\n",
       " 'suspens': 4394,\n",
       " 'amusementpark': 202,\n",
       " 'animalattack': 230,\n",
       " 'animalhorror': 231,\n",
       " 'grave': 1913,\n",
       " 'wrong': 4965,\n",
       " 'attack': 338,\n",
       " 'reloc': 3680,\n",
       " 'author': 355,\n",
       " 'posit': 3445,\n",
       " 'challeng': 746,\n",
       " 'intellig': 2263,\n",
       " 'secur': 3975,\n",
       " 'insid': 2247,\n",
       " 'alli': 166,\n",
       " 'trust': 4620,\n",
       " 'shadow': 4030,\n",
       " 'onli': 3221,\n",
       " 'field': 1676,\n",
       " 'eve': 1539,\n",
       " 'lethal': 2632,\n",
       " 'hidden': 2055,\n",
       " 'motiv': 3038,\n",
       " 'sociopath': 4155,\n",
       " 'killer': 2525,\n",
       " 'judidench': 2459,\n",
       " 'javierbardem': 2350,\n",
       " 'major': 2771,\n",
       " 'ident': 2174,\n",
       " 'crisis': 1066,\n",
       " 'burn': 640,\n",
       " 'decid': 1170,\n",
       " 'suffer': 4345,\n",
       " 'wake': 4819,\n",
       " 'doc': 1303,\n",
       " 'feel': 1657,\n",
       " 'mari': 2802,\n",
       " 'jane': 2338,\n",
       " 'girl': 1868,\n",
       " 'sinc': 4094,\n",
       " 'childhood': 789,\n",
       " 'doctor': 1304,\n",
       " 'supervillain': 4368,\n",
       " 'apart': 265,\n",
       " 'start': 4250,\n",
       " 'odyssey': 3202,\n",
       " 'rebuild': 3637,\n",
       " 'malibu': 2780,\n",
       " 'gwynethpaltrow': 1957,\n",
       " 'doncheadl': 1319,\n",
       " 'alice': 156,\n",
       " 'individu': 2224,\n",
       " '19': 15,\n",
       " 'english': 1487,\n",
       " 'party': 3309,\n",
       " 'crowd': 1072,\n",
       " 'consid': 975,\n",
       " 'marriag': 2816,\n",
       " 'hole': 2089,\n",
       " 'garden': 1830,\n",
       " 'spot': 4227,\n",
       " 'unusu': 4702,\n",
       " 'rabbit': 3573,\n",
       " 'arriv': 305,\n",
       " 'strang': 4297,\n",
       " 'surreal': 4383,\n",
       " 'place': 3395,\n",
       " 'nightmar': 3155,\n",
       " 'child': 786,\n",
       " 'talk': 4419,\n",
       " 'animals': 232,\n",
       " 'alic': 155,\n",
       " 'reason': 3630,\n",
       " 'conquer': 971,\n",
       " 'horrif': 2118,\n",
       " 'restor': 3722,\n",
       " 'throne': 4504,\n",
       " 'annehathaway': 239,\n",
       " 'timburton': 4519,\n",
       " 'cure': 1090,\n",
       " 'treat': 4597,\n",
       " 'line': 2662,\n",
       " 'drawn': 1341,\n",
       " 'band': 389,\n",
       " 'mutant': 3073,\n",
       " 'beast': 433,\n",
       " 'hughjackman': 2145,\n",
       " 'halleberri': 1967,\n",
       " 'brettratn': 583,\n",
       " 'relationship': 3671,\n",
       " 'mike': 2947,\n",
       " 'dure': 1377,\n",
       " 'friends': 1789,\n",
       " 'bestfriend': 475,\n",
       " 'scari': 3919,\n",
       " 'billycryst': 501,\n",
       " 'johngoodman': 2418,\n",
       " 'stevebuscemi': 4269,\n",
       " 'sam': 3883,\n",
       " 'normal': 3166,\n",
       " 'mind': 2959,\n",
       " 'target': 4425,\n",
       " 'drag': 1336,\n",
       " 'egypt': 1421,\n",
       " 'sun': 4355,\n",
       " 'chao': 757,\n",
       " 'artifact': 309,\n",
       " 'transform': 4586,\n",
       " 'tank': 4422,\n",
       " 'robot': 3795,\n",
       " 'shialabeouf': 4052,\n",
       " 'michaelbay': 2921,\n",
       " 'pick': 3379,\n",
       " 'vanish': 4735,\n",
       " 'group': 1933,\n",
       " 'businessman': 644,\n",
       " 'push': 3560,\n",
       " 'boundari': 556,\n",
       " 'technolog': 4437,\n",
       " 'control': 992,\n",
       " 'ancient': 210,\n",
       " 'menac': 2896,\n",
       " 'markwahlberg': 2812,\n",
       " 'oscar': 3247,\n",
       " 'small': 4136,\n",
       " 'tim': 4517,\n",
       " 'circu': 844,\n",
       " 'whisk': 4886,\n",
       " 'kansa': 2477,\n",
       " 'land': 2573,\n",
       " 'oz': 3267,\n",
       " 'inhabit': 2236,\n",
       " 'great': 1914,\n",
       " 'clutch': 887,\n",
       " 'illus': 2189,\n",
       " 'lost': 2717,\n",
       " 'milakuni': 2950,\n",
       " 'rachelweisz': 3581,\n",
       " 'bad': 379,\n",
       " 'guy': 1953,\n",
       " 'spend': 4212,\n",
       " 'loves': 2731,\n",
       " 'school': 3926,\n",
       " 'graduat': 1904,\n",
       " 'stay': 4255,\n",
       " 'clue': 885,\n",
       " 'obsess': 3189,\n",
       " 'jamiefoxx': 2335,\n",
       " 'tech': 4436,\n",
       " 'son': 4172,\n",
       " 'kevin': 2504,\n",
       " 'investig': 2284,\n",
       " 'dictat': 1248,\n",
       " 'real': 3622,\n",
       " 'artificialintellig': 311,\n",
       " 'dystopia': 1390,\n",
       " 'comput': 949,\n",
       " 'decept': 1169,\n",
       " 'duel': 1373,\n",
       " 'motorcycl': 3041,\n",
       " 'jeffbridg': 2360,\n",
       " 'oliviawild': 3216,\n",
       " 'star': 4245,\n",
       " 'race': 3574,\n",
       " 'car': 684,\n",
       " 'lightn': 2654,\n",
       " 'pal': 3278,\n",
       " 'compet': 941,\n",
       " 'grand': 1905,\n",
       " 'road': 3774,\n",
       " 'championship': 749,\n",
       " 'rocki': 3800,\n",
       " 'intrigu': 2277,\n",
       " 'carrac': 701,\n",
       " 'anthropomorph': 255,\n",
       " 'owenwilson': 3263,\n",
       " 'centuries': 739,\n",
       " 'warrior': 4843,\n",
       " 'green': 1921,\n",
       " 'corp': 1007,\n",
       " 'intergalact': 2267,\n",
       " 'wear': 4863,\n",
       " 'grant': 1910,\n",
       " 'destroy': 1223,\n",
       " 'balanc': 383,\n",
       " 'universe': 4684,\n",
       " 'lie': 2643,\n",
       " 'hand': 1971,\n",
       " 'ryanreynold': 3864,\n",
       " 'petersarsgaard': 3361,\n",
       " 'martincampbel': 2830,\n",
       " 'buzz': 651,\n",
       " 'andy': 218,\n",
       " 'toy': 4569,\n",
       " 'haven': 2013,\n",
       " 'play': 3404,\n",
       " 'andi': 214,\n",
       " 'college': 906,\n",
       " 'accident': 69,\n",
       " 'nefari': 3111,\n",
       " 'care': 689,\n",
       " 'center': 735,\n",
       " 'togeth': 4536,\n",
       " 'home': 2094,\n",
       " 'toycomestolif': 4570,\n",
       " 'tomhank': 4541,\n",
       " 'timallen': 4518,\n",
       " 'grown': 1937,\n",
       " 'post': 3448,\n",
       " 'apocalypt': 271,\n",
       " 'connor': 970,\n",
       " 'resist': 3710,\n",
       " 'increasingli': 2215,\n",
       " 'domin': 1315,\n",
       " 'marcu': 2801,\n",
       " 'wright': 4961,\n",
       " 'confus': 964,\n",
       " 'foe': 1725,\n",
       " 'propheci': 3529,\n",
       " 'sanfrancisco': 3897,\n",
       " 'cyborg': 1099,\n",
       " 'killerrobot': 2526,\n",
       " 'gasstat': 1837,\n",
       " 'losangel': 2704,\n",
       " 'antonyelchin': 262,\n",
       " 'shaw': 4046,\n",
       " 'seek': 3979,\n",
       " 'speed': 4209,\n",
       " 'vindiesel': 4781,\n",
       " 'paulwalk': 3332,\n",
       " 'dwaynejohnson': 1383,\n",
       " 'jameswan': 2331,\n",
       " 'unit': 4682,\n",
       " 'nation': 3094,\n",
       " 'lane': 2575,\n",
       " 'content': 987,\n",
       " 'plagu': 3396,\n",
       " 'infect': 2231,\n",
       " 'turn': 4626,\n",
       " 'popul': 3435,\n",
       " 'rampag': 3598,\n",
       " 'zombies': 4996,\n",
       " 'bare': 399,\n",
       " 'chaos': 758,\n",
       " 'persuad': 3354,\n",
       " 'disease': 1280,\n",
       " 'peril': 3348,\n",
       " 'trek': 4600,\n",
       " 'brave': 571,\n",
       " 'odd': 3199,\n",
       " 'answer': 249,\n",
       " 'befor': 448,\n",
       " 'civil': 850,\n",
       " 'horror': 2120,\n",
       " 'apocalyps': 269,\n",
       " 'zombi': 4995,\n",
       " 'bradpitt': 566,\n",
       " 'speci': 4204,\n",
       " 'period': 3349,\n",
       " 'join': 2433,\n",
       " 'younger': 4981,\n",
       " 'future': 1808,\n",
       " '1970': 25,\n",
       " 'storm': 4292,\n",
       " 'jamesmcavoy': 2330,\n",
       " 'michaelfassbend': 2924,\n",
       " 'enterpris': 1499,\n",
       " 'unstopp': 4700,\n",
       " 'everyth': 1548,\n",
       " 'stand': 4243,\n",
       " 'state': 4251,\n",
       " 'score': 3933,\n",
       " 'kirk': 2534,\n",
       " 'manhunt': 2787,\n",
       " 'captur': 682,\n",
       " 'mass': 2840,\n",
       " 'destruction': 1226,\n",
       " 'friendship': 1790,\n",
       " 'sacrific': 3867,\n",
       " 'spacecraft': 4193,\n",
       " 'spaceopera': 4196,\n",
       " 'chrispin': 814,\n",
       " 'unwittingli': 4705,\n",
       " 'open': 3224,\n",
       " 'fearsom': 1652,\n",
       " 'unleash': 4687,\n",
       " 'strive': 4314,\n",
       " 'reclaim': 3641,\n",
       " 'onc': 3220,\n",
       " 'people': 3345,\n",
       " 'thought': 4498,\n",
       " 'legend': 2616,\n",
       " 'chanc': 750,\n",
       " 'ewanmcgregor': 1553,\n",
       " 'adapt': 91,\n",
       " 'scott': 3935,\n",
       " 'novel': 3175,\n",
       " 'lure': 2746,\n",
       " 'lavish': 2594,\n",
       " 'neighbor': 3113,\n",
       " 'jay': 2351,\n",
       " 'crack': 1041,\n",
       " 'rich': 3745,\n",
       " 'existence': 1567,\n",
       " 'obsession': 3190,\n",
       " 'madness': 2759,\n",
       " 'tragedi': 4578,\n",
       " 'await': 362,\n",
       " 'infidel': 2232,\n",
       " 'careymulligan': 693,\n",
       " 'rogu': 3805,\n",
       " 'capabl': 676,\n",
       " 'releas': 3674,\n",
       " 'gift': 1866,\n",
       " 'rule': 3843,\n",
       " 'basedonvideogam': 418,\n",
       " 'jakegyllenha': 2320,\n",
       " 'benkingsley': 469,\n",
       " 'mikenewel': 2949,\n",
       " 'legion': 2619,\n",
       " 'monstrou': 3012,\n",
       " 'creatures': 1054,\n",
       " 'began': 450,\n",
       " 'consum': 982,\n",
       " 'humanity': 2148,\n",
       " 'resourc': 3714,\n",
       " 'end': 1475,\n",
       " 'combat': 915,\n",
       " 'special': 4205,\n",
       " ...}"
      ]
     },
     "execution_count": 62,
     "metadata": {},
     "output_type": "execute_result"
    }
   ],
   "source": [
    "cv.vocabulary_"
   ]
  },
  {
   "cell_type": "markdown",
   "id": "78146834",
   "metadata": {},
   "source": [
    "# 7. Vectors are ready. Now find the cosine similarity between words."
   ]
  },
  {
   "cell_type": "code",
   "execution_count": 63,
   "id": "81c9fb34",
   "metadata": {},
   "outputs": [
    {
     "data": {
      "text/plain": [
       "array([[1.        , 0.08346223, 0.0860309 , ..., 0.04499213, 0.        ,\n",
       "        0.        ],\n",
       "       [0.08346223, 1.        , 0.06063391, ..., 0.02378257, 0.        ,\n",
       "        0.02615329],\n",
       "       [0.0860309 , 0.06063391, 1.        , ..., 0.02451452, 0.        ,\n",
       "        0.        ],\n",
       "       ...,\n",
       "       [0.04499213, 0.02378257, 0.02451452, ..., 1.        , 0.03962144,\n",
       "        0.04229549],\n",
       "       [0.        , 0.        , 0.        , ..., 0.03962144, 1.        ,\n",
       "        0.08714204],\n",
       "       [0.        , 0.02615329, 0.        , ..., 0.04229549, 0.08714204,\n",
       "        1.        ]])"
      ]
     },
     "execution_count": 63,
     "metadata": {},
     "output_type": "execute_result"
    }
   ],
   "source": [
    "from sklearn.metrics.pairwise import cosine_similarity\n",
    "cosine_similarity(vectors)"
   ]
  },
  {
   "cell_type": "code",
   "execution_count": 64,
   "id": "1d22978d",
   "metadata": {},
   "outputs": [],
   "source": [
    "similarity = cosine_similarity(vectors)"
   ]
  },
  {
   "cell_type": "code",
   "execution_count": 65,
   "id": "9bdb3c0c",
   "metadata": {},
   "outputs": [
    {
     "data": {
      "text/plain": [
       "(4806, 4806)"
      ]
     },
     "execution_count": 65,
     "metadata": {},
     "output_type": "execute_result"
    }
   ],
   "source": [
    "similarity.shape"
   ]
  },
  {
   "cell_type": "code",
   "execution_count": 66,
   "id": "0554869e",
   "metadata": {},
   "outputs": [
    {
     "data": {
      "text/plain": [
       "array([1.        , 0.08346223, 0.0860309 , ..., 0.04499213, 0.        ,\n",
       "       0.        ])"
      ]
     },
     "execution_count": 66,
     "metadata": {},
     "output_type": "execute_result"
    }
   ],
   "source": [
    "similarity[0]"
   ]
  },
  {
   "cell_type": "code",
   "execution_count": 67,
   "id": "635e41d1",
   "metadata": {},
   "outputs": [
    {
     "data": {
      "text/plain": [
       "(4806,)"
      ]
     },
     "execution_count": 67,
     "metadata": {},
     "output_type": "execute_result"
    }
   ],
   "source": [
    "similarity[0].shape"
   ]
  },
  {
   "cell_type": "markdown",
   "id": "120eb8b8",
   "metadata": {},
   "source": [
    "## 8. Well, done with making \"cosine similarities\". Now its time to make a custom function, that will return you most similar 5 movie names."
   ]
  },
  {
   "cell_type": "code",
   "execution_count": 68,
   "id": "3ff21140",
   "metadata": {},
   "outputs": [
    {
     "data": {
      "text/plain": [
       "[(1216, 0.2867696673382022),\n",
       " (2409, 0.26901379342448517),\n",
       " (3730, 0.2605130246476754),\n",
       " (507, 0.255608593705383),\n",
       " (539, 0.25038669783359574)]"
      ]
     },
     "execution_count": 68,
     "metadata": {},
     "output_type": "execute_result"
    }
   ],
   "source": [
    "sorted(list(enumerate(similarity[0])), reverse=True, key=lambda x:x[1])[1:6]"
   ]
  },
  {
   "cell_type": "code",
   "execution_count": 69,
   "id": "b2981f8e",
   "metadata": {},
   "outputs": [
    {
     "data": {
      "text/html": [
       "<div>\n",
       "<style scoped>\n",
       "    .dataframe tbody tr th:only-of-type {\n",
       "        vertical-align: middle;\n",
       "    }\n",
       "\n",
       "    .dataframe tbody tr th {\n",
       "        vertical-align: top;\n",
       "    }\n",
       "\n",
       "    .dataframe thead th {\n",
       "        text-align: right;\n",
       "    }\n",
       "</style>\n",
       "<table border=\"1\" class=\"dataframe\">\n",
       "  <thead>\n",
       "    <tr style=\"text-align: right;\">\n",
       "      <th></th>\n",
       "      <th>movie_id</th>\n",
       "      <th>title</th>\n",
       "      <th>tag</th>\n",
       "    </tr>\n",
       "  </thead>\n",
       "  <tbody>\n",
       "    <tr>\n",
       "      <th>119</th>\n",
       "      <td>272</td>\n",
       "      <td>Batman Begins</td>\n",
       "      <td>driven by tragedy, billionair bruce wayn dedic...</td>\n",
       "    </tr>\n",
       "  </tbody>\n",
       "</table>\n",
       "</div>"
      ],
      "text/plain": [
       "     movie_id          title  \\\n",
       "119       272  Batman Begins   \n",
       "\n",
       "                                                   tag  \n",
       "119  driven by tragedy, billionair bruce wayn dedic...  "
      ]
     },
     "execution_count": 69,
     "metadata": {},
     "output_type": "execute_result"
    }
   ],
   "source": [
    "# We will find the index of the given movie name\n",
    "new_df[new_df['title'] == 'Batman Begins']"
   ]
  },
  {
   "cell_type": "code",
   "execution_count": 70,
   "id": "50aa0277",
   "metadata": {},
   "outputs": [
    {
     "data": {
      "text/plain": [
       "119"
      ]
     },
     "execution_count": 70,
     "metadata": {},
     "output_type": "execute_result"
    }
   ],
   "source": [
    "# So, 119 is the name of my Batman Begins movie index.\n",
    "new_df[new_df['title'] == 'Batman Begins'].index[0]"
   ]
  },
  {
   "cell_type": "markdown",
   "id": "80127ac3",
   "metadata": {},
   "source": [
    "## 9. The recommend function takes a movie title as input, finds the 5 most similar movies based on a similarity matrix, and prints their titles."
   ]
  },
  {
   "cell_type": "code",
   "execution_count": 71,
   "id": "344ed033",
   "metadata": {},
   "outputs": [],
   "source": [
    "def recommend(movie):\n",
    "    movie_index = new_df[new_df['title'] == movie].index[0]\n",
    "    distances = similarity[movie_index]\n",
    "    movies_list = sorted(list(enumerate(distances)), reverse=True, key=lambda x:x[1])[1:6]\n",
    "    \n",
    "    for i in movies_list:\n",
    "        print(new_df.iloc[i[0]].title)"
   ]
  },
  {
   "cell_type": "code",
   "execution_count": 72,
   "id": "c5856b06",
   "metadata": {},
   "outputs": [
    {
     "name": "stdout",
     "output_type": "stream",
     "text": [
      "The Dark Knight\n",
      "Batman\n",
      "Batman\n",
      "The Dark Knight Rises\n",
      "10th & Wolf\n"
     ]
    }
   ],
   "source": [
    "recommend('Batman Begins')"
   ]
  },
  {
   "cell_type": "code",
   "execution_count": 73,
   "id": "a480f27c",
   "metadata": {},
   "outputs": [
    {
     "name": "stdout",
     "output_type": "stream",
     "text": [
      "Aliens vs Predator: Requiem\n",
      "Aliens\n",
      "Falcon Rising\n",
      "Independence Day\n",
      "Titan A.E.\n"
     ]
    }
   ],
   "source": [
    "recommend('Avatar')"
   ]
  },
  {
   "cell_type": "markdown",
   "id": "5a8508cf",
   "metadata": {},
   "source": [
    "## 10. Make 2 pkl files while 1 .pkl file will contain movies and another will contain similarity values."
   ]
  },
  {
   "cell_type": "code",
   "execution_count": 74,
   "id": "8ee4e0a4",
   "metadata": {},
   "outputs": [],
   "source": [
    "import pickle"
   ]
  },
  {
   "cell_type": "code",
   "execution_count": 75,
   "id": "bf329033",
   "metadata": {},
   "outputs": [],
   "source": [
    "pickle.dump(new_df, open('movies.pkl','wb'))"
   ]
  },
  {
   "cell_type": "code",
   "execution_count": 76,
   "id": "b2b5b3af",
   "metadata": {},
   "outputs": [
    {
     "data": {
      "text/plain": [
       "array(['Avatar', \"Pirates of the Caribbean: At World's End\", 'Spectre',\n",
       "       ..., 'Signed, Sealed, Delivered', 'Shanghai Calling',\n",
       "       'My Date with Drew'], dtype=object)"
      ]
     },
     "execution_count": 76,
     "metadata": {},
     "output_type": "execute_result"
    }
   ],
   "source": [
    "new_df['title'].values"
   ]
  },
  {
   "cell_type": "code",
   "execution_count": 77,
   "id": "1efdf346",
   "metadata": {},
   "outputs": [],
   "source": [
    "pickle.dump(similarity, open('similarity.pkl','wb'))"
   ]
  },
  {
   "cell_type": "markdown",
   "id": "b9229c3e",
   "metadata": {},
   "source": [
    "# End: Finally, these 2 .pkl files will be used to develop the StreamLit web application. Thank You."
   ]
  }
 ],
 "metadata": {
  "kernelspec": {
   "display_name": "Python 3 (ipykernel)",
   "language": "python",
   "name": "python3"
  },
  "language_info": {
   "codemirror_mode": {
    "name": "ipython",
    "version": 3
   },
   "file_extension": ".py",
   "mimetype": "text/x-python",
   "name": "python",
   "nbconvert_exporter": "python",
   "pygments_lexer": "ipython3",
   "version": "3.9.7"
  }
 },
 "nbformat": 4,
 "nbformat_minor": 5
}
